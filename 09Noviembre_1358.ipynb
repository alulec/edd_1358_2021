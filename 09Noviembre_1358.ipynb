{
  "nbformat": 4,
  "nbformat_minor": 0,
  "metadata": {
    "colab": {
      "name": "09Noviembre_1358.ipynb",
      "provenance": [],
      "authorship_tag": "ABX9TyPmDI2Zjzjceuv3vqYmmHfh",
      "include_colab_link": true
    },
    "kernelspec": {
      "name": "python3",
      "display_name": "Python 3"
    }
  },
  "cells": [
    {
      "cell_type": "markdown",
      "metadata": {
        "id": "view-in-github",
        "colab_type": "text"
      },
      "source": [
        "<a href=\"https://colab.research.google.com/github/alulec/edd_1358_2021/blob/master/09Noviembre_1358.ipynb\" target=\"_parent\"><img src=\"https://colab.research.google.com/assets/colab-badge.svg\" alt=\"Open In Colab\"/></a>"
      ]
    },
    {
      "cell_type": "code",
      "metadata": {
        "id": "zoUvyl3J0_8C",
        "colab": {
          "base_uri": "https://localhost:8080/"
        },
        "outputId": "94688108-1483-4782-8fad-a7366d7934b2"
      },
      "source": [
        "class Nodo:\n",
        "    def __init__(self, dato):\n",
        "        self.__dato = dato\n",
        "        self.__siguiente = None\n",
        "    \n",
        "    def get_dato(self):\n",
        "        return self.__dato\n",
        "\n",
        "    def set_dato(self, d):\n",
        "        self.__dato = d\n",
        "\n",
        "    def get_siguiente(self):\n",
        "        return self.__siguiente\n",
        "\n",
        "    def set_siguiente(self, d):\n",
        "        self.__siguiente = d\n",
        "    \"\"\"\n",
        "    def to_string(self):\n",
        "        return \"|\" + str(self.__dato) + \"|\" + str(self.__siguiente) + \"|\"\n",
        "    \"\"\"\n",
        "    def show( self ):\n",
        "        curr_node = self # Head\n",
        "        print(\" Inicio de la estructura ligada:\")\n",
        "        print(\"|\" , str(curr_node.get_dato()) + \" | -->\" , end =\"\" )\n",
        "        while( curr_node.get_siguiente() != None ):\n",
        "            curr_node = curr_node.get_siguiente()\n",
        "            print(\"|\" , curr_node.get_dato()  , \"| -->\" , end=\"\" )\n",
        "        print(\"\\nFin\")\n",
        "\n",
        "\n",
        "# ejemplo 1\n",
        "a = Nodo(10)\n",
        "#print(a.show())\n",
        "\n",
        "# ejemplo 2\n",
        "a.set_siguiente(Nodo(20))\n",
        "#print(a.show())\n",
        "\n",
        "# ejemplo 3\n",
        "a.get_siguiente().set_siguiente(Nodo(30))\n",
        "#print(a.show())\n",
        "\n",
        "# ejemplo 4\n",
        "a.get_siguiente().get_siguiente().set_siguiente(Nodo(40))\n",
        "#print(a.show())\n",
        "\n",
        "# ejemplo 5\n",
        "a.get_siguiente().get_siguiente().get_siguiente().set_siguiente(Nodo(50))\n",
        "#print(a.show())\n",
        "\n",
        "# ejemplo 6\n",
        "a.set_dato(12)\n",
        "#print(a.show())\n",
        "\n",
        "# ejemplo 7\n",
        "a.get_siguiente().get_siguiente().get_siguiente().set_dato(45)\n",
        "#a.show()\n",
        "\n",
        "# ejemplo 8\n",
        "a.get_siguiente().get_siguiente().get_siguiente().get_siguiente().set_siguiente(Nodo(60))\n",
        "#a.show()\n",
        "\n",
        "# ejemplo 9\n",
        "a.get_siguiente().set_dato(25)\n",
        "a.show()\n",
        "a.get_siguiente().get_siguiente().get_siguiente().set_dato(45)\n",
        "a.show()"
      ],
      "execution_count": null,
      "outputs": [
        {
          "output_type": "stream",
          "text": [
            " Inicio de la estructura ligada:\n",
            "| 12 | -->| 25 | -->| 30 | -->| 45 | -->| 50 | -->| 60 | -->\n",
            "Fin\n",
            " Inicio de la estructura ligada:\n",
            "| 12 | -->| 25 | -->| 30 | -->| 45 | -->| 50 | -->| 60 | -->\n",
            "Fin\n"
          ],
          "name": "stdout"
        }
      ]
    },
    {
      "cell_type": "code",
      "metadata": {
        "id": "TBeBENbiN0hz",
        "colab": {
          "base_uri": "https://localhost:8080/"
        },
        "outputId": "7a767dfa-2ccd-4f2b-a6f2-8d974e1ac224"
      },
      "source": [
        "class Nodo:\n",
        "    def __init__(self, dato):\n",
        "        self.dato = dato\n",
        "        self.siguiente = None\n",
        "    \n",
        "# ejemplo 1\n",
        "a = Nodo(10)\n",
        "print(a.dato)\n",
        "\n",
        "# ejemplo 2\n",
        "a.siguiente = Nodo(20)\n",
        "\n",
        "# ejemplo 3\n",
        "a.siguiente.siguiente = Nodo(30)\n",
        "\n",
        "# ejemplo 4\n",
        "a.siguiente.siguiente.siguiente = Nodo(40)\n",
        "\n",
        "# ejemplo 5\n",
        "a.siguiente.siguiente.siguiente.siguiente = Nodo(50)\n",
        "# recorrido transversal\n",
        "curr_node = a\n",
        "print(curr_node.dato , \"-->\" , end=\"\")\n",
        "while( curr_node.siguiente != None ):\n",
        "    curr_node = curr_node.siguiente\n",
        "    print(curr_node.dato, \"-->\" , end=\"\")\n",
        "print(\"\")\n",
        "\n",
        "# ejemplo 6\n",
        "a.siguiente.siguiente.siguiente.dato = 45\n",
        "\n",
        "# ejemplo 7 \n",
        "a.siguiente.siguiente.dato = 35\n",
        "\n",
        "# ejemplo 8\n",
        "a.siguiente.siguiente = a.siguiente.siguiente.siguiente\n",
        "\n",
        "# ejemplo 9\n",
        "a.siguiente = a.siguiente.siguiente.siguiente.siguiente\n",
        "\n",
        "# ejemplo 10\n",
        "a.siguiente\n",
        "\n",
        "\n",
        "\n",
        "curr_node = a\n",
        "print(curr_node.dato , \"-->\" , end=\"\")\n",
        "while( curr_node.siguiente != None ):\n",
        "    curr_node = curr_node.siguiente\n",
        "    print(curr_node.dato, \"-->\" , end=\"\")\n",
        "print(\"\")"
      ],
      "execution_count": null,
      "outputs": [
        {
          "output_type": "stream",
          "text": [
            "10\n",
            "10 -->20 -->30 -->40 -->50 -->\n",
            "10 -->\n"
          ],
          "name": "stdout"
        }
      ]
    },
    {
      "cell_type": "code",
      "metadata": {
        "colab": {
          "base_uri": "https://localhost:8080/"
        },
        "id": "9I2gINUQJQWV",
        "outputId": "e3a7a412-bba7-4380-e33f-a3c831de1a3f"
      },
      "source": [
        "# Codigo del 18 de noviembre\n",
        "class Nodo:\n",
        "    def __init__(self, dato, next=None):\n",
        "        self.dato = dato\n",
        "        self.next = next\n",
        "\n",
        "\n",
        "head = Nodo(10,Nodo (20, Nodo(30, Nodo(40, Nodo(50)))))\n",
        "# Recorrido transversal\n",
        "curr_node = head\n",
        "print(curr_node.dato , \"-->\" , end=\"\")\n",
        "while( curr_node.next != None ):\n",
        "    curr_node = curr_node.next\n",
        "    print(curr_node.dato, \"-->\" , end=\"\")\n",
        "print(\"\")\n",
        "\n",
        "# Insertar el nodo 35 despues de 30\n",
        "anterior = head.next.next\n",
        "print(anterior.dato)\n",
        "nuevo = Nodo(35)\n",
        "nuevo.next = anterior.next\n",
        "print(nuevo.next.dato)\n",
        "anterior.next = nuevo\n",
        "\n",
        "\n",
        "# Recorrido transversal\n",
        "curr_node = head\n",
        "print(curr_node.dato , \"-->\" , end=\"\")\n",
        "while( curr_node.next != None ):\n",
        "    curr_node = curr_node.next\n",
        "    print(curr_node.dato, \"-->\" , end=\"\")\n",
        "print(\"\")\n",
        "\n",
        "#Eliminar el nodo 20\n",
        "head.next = head.next.next\n",
        "\n",
        "# Recorrido transversal\n",
        "curr_node = head\n",
        "print(curr_node.dato , \"-->\" , end=\"\")\n",
        "while( curr_node.next != None ):\n",
        "    curr_node = curr_node.next\n",
        "    print(curr_node.dato, \"-->\" , end=\"\")\n",
        "print(\"\")\n",
        "\n",
        "# Insertar 45\n",
        "nuevo = Nodo(45, head.next.next.next.next)\n",
        "head.next.next.next.next = nuevo\n",
        "curr_node = head\n",
        "print(curr_node.dato , \"-->\" , end=\"\")\n",
        "while( curr_node.next != None ):\n",
        "    curr_node = curr_node.next\n",
        "    print(curr_node.dato, \"-->\" , end=\"\")\n",
        "print(\"\")\n",
        "\n",
        "#insertar 20\n",
        "nuevo = Nodo(20, head.next)\n",
        "head.next = nuevo\n",
        "curr_node = head\n",
        "print(curr_node.dato , \"-->\" , end=\"\")\n",
        "while( curr_node.next != None ):\n",
        "    curr_node = curr_node.next\n",
        "    print(curr_node.dato, \"-->\" , end=\"\")\n",
        "print(\"\")\n",
        "\n",
        "# eliminar 35 y 45\n"
      ],
      "execution_count": 10,
      "outputs": [
        {
          "output_type": "stream",
          "text": [
            "10 -->20 -->30 -->40 -->50 -->\n",
            "30\n",
            "40\n",
            "10 -->20 -->30 -->35 -->40 -->50 -->\n",
            "10 -->30 -->35 -->40 -->50 -->\n",
            "10 -->30 -->35 -->40 -->45 -->50 -->\n",
            "10 -->20 -->30 -->35 -->40 -->45 -->50 -->\n"
          ],
          "name": "stdout"
        }
      ]
    },
    {
      "cell_type": "code",
      "metadata": {
        "id": "cihmC-9nVdGP"
      },
      "source": [
        "class Nodo:\n",
        "    def __init__(self, dato, next=None):\n",
        "        self.dato = dato\n",
        "        self.next = next\n",
        "\n",
        "class LinkedList:\n",
        "    def __init__(self):\n",
        "        self.__head = None\n",
        "    \n",
        "    def is_empty(self):\n",
        "        return self.__head == None"
      ],
      "execution_count": 12,
      "outputs": []
    },
    {
      "cell_type": "code",
      "metadata": {
        "id": "aD4osrMYVc4h"
      },
      "source": [
        ""
      ],
      "execution_count": null,
      "outputs": []
    }
  ]
}