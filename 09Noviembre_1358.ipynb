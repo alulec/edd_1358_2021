{
  "nbformat": 4,
  "nbformat_minor": 0,
  "metadata": {
    "colab": {
      "name": "09Noviembre_1358.ipynb",
      "provenance": [],
      "authorship_tag": "ABX9TyPLHyy1r8dGqXIIzdayKE27",
      "include_colab_link": true
    },
    "kernelspec": {
      "name": "python3",
      "display_name": "Python 3"
    }
  },
  "cells": [
    {
      "cell_type": "markdown",
      "metadata": {
        "id": "view-in-github",
        "colab_type": "text"
      },
      "source": [
        "<a href=\"https://colab.research.google.com/github/alulec/edd_1358_2021/blob/master/09Noviembre_1358.ipynb\" target=\"_parent\"><img src=\"https://colab.research.google.com/assets/colab-badge.svg\" alt=\"Open In Colab\"/></a>"
      ]
    },
    {
      "cell_type": "code",
      "metadata": {
        "id": "zoUvyl3J0_8C",
        "outputId": "2635b99a-b665-49ed-db40-0d1c7984c38a",
        "colab": {
          "base_uri": "https://localhost:8080/",
          "height": 135
        }
      },
      "source": [
        "class Nodo:\n",
        "    def __init__(self, dato):\n",
        "        self.__dato = dato\n",
        "        self.__siguiente = None\n",
        "    \n",
        "    def get_dato(self):\n",
        "        return self.__dato\n",
        "\n",
        "    def set_dato(self, d):\n",
        "        self.__dato = d\n",
        "\n",
        "    def get_siguiente(self):\n",
        "        return self.__siguiente\n",
        "\n",
        "    def set_siguiente(self, d):\n",
        "        self.__siguiente = d\n",
        "    \"\"\"\n",
        "    def to_string(self):\n",
        "        return \"|\" + str(self.__dato) + \"|\" + str(self.__siguiente) + \"|\"\n",
        "    \"\"\"\n",
        "    def show( self ):\n",
        "        curr_node = self # Head\n",
        "        print(\" Inicio de la estructura ligada:\")\n",
        "        print(\"|\" + str(curr_node.get_dato()) + \"| -->\" , end =\"\" )\n",
        "        while( curr_node.get_siguiente() != None ):\n",
        "            curr_node = curr_node.get_siguiente()\n",
        "            print(\"|\" + str(curr_node.get_dato())  + \"| -->\" + end=\"\" )\n",
        "        print(\"\\nFin\")\n",
        "\n",
        "\n",
        "# ejemplo 1\n",
        "a = Nodo(10)\n",
        "print(a.show())\n",
        "\n",
        "# ejemplo 2\n",
        "a.set_siguiente(20)\n",
        "print(a.show())\n",
        "\n",
        "# ejemplo 3\n",
        "\n"
      ],
      "execution_count": 13,
      "outputs": [
        {
          "output_type": "error",
          "ename": "SyntaxError",
          "evalue": "ignored",
          "traceback": [
            "\u001b[0;36m  File \u001b[0;32m\"<ipython-input-13-601eb1e3b83d>\"\u001b[0;36m, line \u001b[0;32m27\u001b[0m\n\u001b[0;31m    print(\"|\" + str(curr_node.get_dato())  + \"| -->\" + end=\"\" )\u001b[0m\n\u001b[0m         ^\u001b[0m\n\u001b[0;31mSyntaxError\u001b[0m\u001b[0;31m:\u001b[0m keyword can't be an expression\n"
          ]
        }
      ]
    }
  ]
}