{
  "nbformat": 4,
  "nbformat_minor": 0,
  "metadata": {
    "colab": {
      "name": "09Noviembre_1358.ipynb",
      "provenance": [],
      "authorship_tag": "ABX9TyMX+8jyYYt35GbVMMgdevmp",
      "include_colab_link": true
    },
    "kernelspec": {
      "name": "python3",
      "display_name": "Python 3"
    }
  },
  "cells": [
    {
      "cell_type": "markdown",
      "metadata": {
        "id": "view-in-github",
        "colab_type": "text"
      },
      "source": [
        "<a href=\"https://colab.research.google.com/github/alulec/edd_1358_2021/blob/master/09Noviembre_1358.ipynb\" target=\"_parent\"><img src=\"https://colab.research.google.com/assets/colab-badge.svg\" alt=\"Open In Colab\"/></a>"
      ]
    },
    {
      "cell_type": "code",
      "metadata": {
        "id": "zoUvyl3J0_8C",
        "outputId": "94688108-1483-4782-8fad-a7366d7934b2",
        "colab": {
          "base_uri": "https://localhost:8080/"
        }
      },
      "source": [
        "class Nodo:\n",
        "    def __init__(self, dato):\n",
        "        self.__dato = dato\n",
        "        self.__siguiente = None\n",
        "    \n",
        "    def get_dato(self):\n",
        "        return self.__dato\n",
        "\n",
        "    def set_dato(self, d):\n",
        "        self.__dato = d\n",
        "\n",
        "    def get_siguiente(self):\n",
        "        return self.__siguiente\n",
        "\n",
        "    def set_siguiente(self, d):\n",
        "        self.__siguiente = d\n",
        "    \"\"\"\n",
        "    def to_string(self):\n",
        "        return \"|\" + str(self.__dato) + \"|\" + str(self.__siguiente) + \"|\"\n",
        "    \"\"\"\n",
        "    def show( self ):\n",
        "        curr_node = self # Head\n",
        "        print(\" Inicio de la estructura ligada:\")\n",
        "        print(\"|\" , str(curr_node.get_dato()) + \" | -->\" , end =\"\" )\n",
        "        while( curr_node.get_siguiente() != None ):\n",
        "            curr_node = curr_node.get_siguiente()\n",
        "            print(\"|\" , curr_node.get_dato()  , \"| -->\" , end=\"\" )\n",
        "        print(\"\\nFin\")\n",
        "\n",
        "\n",
        "# ejemplo 1\n",
        "a = Nodo(10)\n",
        "#print(a.show())\n",
        "\n",
        "# ejemplo 2\n",
        "a.set_siguiente(Nodo(20))\n",
        "#print(a.show())\n",
        "\n",
        "# ejemplo 3\n",
        "a.get_siguiente().set_siguiente(Nodo(30))\n",
        "#print(a.show())\n",
        "\n",
        "# ejemplo 4\n",
        "a.get_siguiente().get_siguiente().set_siguiente(Nodo(40))\n",
        "#print(a.show())\n",
        "\n",
        "# ejemplo 5\n",
        "a.get_siguiente().get_siguiente().get_siguiente().set_siguiente(Nodo(50))\n",
        "#print(a.show())\n",
        "\n",
        "# ejemplo 6\n",
        "a.set_dato(12)\n",
        "#print(a.show())\n",
        "\n",
        "# ejemplo 7\n",
        "a.get_siguiente().get_siguiente().get_siguiente().set_dato(45)\n",
        "#a.show()\n",
        "\n",
        "# ejemplo 8\n",
        "a.get_siguiente().get_siguiente().get_siguiente().get_siguiente().set_siguiente(Nodo(60))\n",
        "#a.show()\n",
        "\n",
        "# ejemplo 9\n",
        "a.get_siguiente().set_dato(25)\n",
        "a.show()\n",
        "a.get_siguiente().get_siguiente().get_siguiente().set_dato(45)\n",
        "a.show()"
      ],
      "execution_count": 9,
      "outputs": [
        {
          "output_type": "stream",
          "text": [
            " Inicio de la estructura ligada:\n",
            "| 12 | -->| 25 | -->| 30 | -->| 45 | -->| 50 | -->| 60 | -->\n",
            "Fin\n",
            " Inicio de la estructura ligada:\n",
            "| 12 | -->| 25 | -->| 30 | -->| 45 | -->| 50 | -->| 60 | -->\n",
            "Fin\n"
          ],
          "name": "stdout"
        }
      ]
    },
    {
      "cell_type": "code",
      "metadata": {
        "id": "TBeBENbiN0hz",
        "outputId": "7a767dfa-2ccd-4f2b-a6f2-8d974e1ac224",
        "colab": {
          "base_uri": "https://localhost:8080/"
        }
      },
      "source": [
        "class Nodo:\n",
        "    def __init__(self, dato):\n",
        "        self.dato = dato\n",
        "        self.siguiente = None\n",
        "    \n",
        "# ejemplo 1\n",
        "a = Nodo(10)\n",
        "print(a.dato)\n",
        "\n",
        "# ejemplo 2\n",
        "a.siguiente = Nodo(20)\n",
        "\n",
        "# ejemplo 3\n",
        "a.siguiente.siguiente = Nodo(30)\n",
        "\n",
        "# ejemplo 4\n",
        "a.siguiente.siguiente.siguiente = Nodo(40)\n",
        "\n",
        "# ejemplo 5\n",
        "a.siguiente.siguiente.siguiente.siguiente = Nodo(50)\n",
        "# recorrido transversal\n",
        "curr_node = a\n",
        "print(curr_node.dato , \"-->\" , end=\"\")\n",
        "while( curr_node.siguiente != None ):\n",
        "    curr_node = curr_node.siguiente\n",
        "    print(curr_node.dato, \"-->\" , end=\"\")\n",
        "print(\"\")\n",
        "\n",
        "# ejemplo 6\n",
        "a.siguiente.siguiente.siguiente.dato = 45\n",
        "\n",
        "# ejemplo 7 \n",
        "a.siguiente.siguiente.dato = 35\n",
        "\n",
        "# ejemplo 8\n",
        "a.siguiente.siguiente = a.siguiente.siguiente.siguiente\n",
        "\n",
        "# ejemplo 9\n",
        "a.siguiente = a.siguiente.siguiente.siguiente.siguiente\n",
        "\n",
        "# ejemplo 10\n",
        "a.siguiente\n",
        "\n",
        "\n",
        "\n",
        "curr_node = a\n",
        "print(curr_node.dato , \"-->\" , end=\"\")\n",
        "while( curr_node.siguiente != None ):\n",
        "    curr_node = curr_node.siguiente\n",
        "    print(curr_node.dato, \"-->\" , end=\"\")\n",
        "print(\"\")"
      ],
      "execution_count": 38,
      "outputs": [
        {
          "output_type": "stream",
          "text": [
            "10\n",
            "10 -->20 -->30 -->40 -->50 -->\n",
            "10 -->\n"
          ],
          "name": "stdout"
        }
      ]
    }
  ]
}