{
  "nbformat": 4,
  "nbformat_minor": 0,
  "metadata": {
    "colab": {
      "name": "02Octubre_1358.ipynb",
      "provenance": [],
      "authorship_tag": "ABX9TyPjrfFACEuZ6oxg70DBiW7K",
      "include_colab_link": true
    },
    "kernelspec": {
      "name": "python3",
      "display_name": "Python 3"
    }
  },
  "cells": [
    {
      "cell_type": "markdown",
      "metadata": {
        "id": "view-in-github",
        "colab_type": "text"
      },
      "source": [
        "<a href=\"https://colab.research.google.com/github/alulec/edd_1358_2021/blob/master/02Octubre_1358.ipynb\" target=\"_parent\"><img src=\"https://colab.research.google.com/assets/colab-badge.svg\" alt=\"Open In Colab\"/></a>"
      ]
    },
    {
      "cell_type": "code",
      "metadata": {
        "id": "8U8mmUKC3M2n"
      },
      "source": [
        ""
      ],
      "execution_count": null,
      "outputs": []
    },
    {
      "cell_type": "markdown",
      "metadata": {
        "id": "gcmtaO243PxB"
      },
      "source": [
        "# Tipo de dato\n",
        "- string str\n",
        "- enteros int \n",
        "- numero flotante float\n",
        "- Logico bool\n",
        "- Listas list\n",
        "- Tuplas tuple\n",
        "- Diccionarios dict \n",
        "- Conjuntos set\n"
      ]
    },
    {
      "cell_type": "code",
      "metadata": {
        "id": "ljPv0l9Z3wj5",
        "outputId": "4261bc96-c919-4136-bc5b-5b593b0e9426",
        "colab": {
          "base_uri": "https://localhost:8080/",
          "height": 153
        }
      },
      "source": [
        "#string puede emplear \" \", ´´ o \"\"\"\" \"\"\"\"\n",
        "universidad = \"      universidad      nacional     autonoma  de mexico\"\n",
        "print(universidad)\n",
        "#cuando el string es una sola palabra ´´ -> buena practica\n",
        "carrera = 'ico'\n",
        "area = \"software\"\n",
        "division = 'divicion de las ciencias fisico matematicas'\n",
        "print(carrera,area,)\n",
        "print(division)\n",
        "#\"\"\" cuando el string incluye varios renglones\n",
        "\n",
        "frase = \"\"\"\n",
        "si funciona, ¡¡¡ no \n",
        "lo\n",
        "arregles!!!\n",
        "\"\"\"\n",
        "print(frase) "
      ],
      "execution_count": 3,
      "outputs": [
        {
          "output_type": "stream",
          "text": [
            "      universidad      nacional     autonoma  de mexico\n",
            "ico software\n",
            "divicion de las ciencias fisico matematicas\n",
            "\n",
            "si funciona, ¡¡¡ no \n",
            "lo\n",
            "arregles!!!\n",
            "\n"
          ],
          "name": "stdout"
        }
      ]
    },
    {
      "cell_type": "code",
      "metadata": {
        "id": "tpFdy0p35fkF",
        "outputId": "ccb19527-e571-4f1f-e82a-a3a00fd70683",
        "colab": {
          "base_uri": "https://localhost:8080/",
          "height": 241
        }
      },
      "source": [
        "print(universidad.upper() )\n",
        "print(universidad)\n",
        "print(universidad.title())\n",
        "#eliminar espacios a la derecha e izquierda\n",
        "universidad = universidad.strip()\n",
        "print(universidad)\n",
        "lista =universidad.split(' ')\n",
        "print(lista)\n",
        "nueva = \"\"\n",
        "for l in lista:\n",
        "  if len(l) > 0:\n",
        "    nueva += l + \" \"\n",
        "print(nueva)\n",
        "\n",
        "numeros = \"1,2,34,56,100\"\n",
        "separados = numeros.split(\",\")\n",
        "print(separados)\n",
        "numeros_int = []\n",
        "for num in separados:\n",
        "  numeros_int.append(int(num))\n",
        "print(numeros_int)\n",
        "\n",
        "print(nueva)\n",
        "print(nueva.index(\"na\"))\n",
        "print(nueva.replace(' ', '-'))\n",
        "print(nueva)"
      ],
      "execution_count": 22,
      "outputs": [
        {
          "output_type": "stream",
          "text": [
            "UNIVERSIDAD      NACIONAL     AUTONOMA  DE MEXICO\n",
            "universidad      nacional     autonoma  de mexico\n",
            "Universidad      Nacional     Autonoma  De Mexico\n",
            "universidad      nacional     autonoma  de mexico\n",
            "['universidad', '', '', '', '', '', 'nacional', '', '', '', '', 'autonoma', '', 'de', 'mexico']\n",
            "universidad nacional autonoma de mexico \n",
            "['1', '2', '34', '56', '100']\n",
            "[1, 2, 34, 56, 100]\n",
            "universidad nacional autonoma de mexico \n",
            "12\n",
            "universidad-nacional-autonoma-de-mexico-\n",
            "universidad nacional autonoma de mexico \n"
          ],
          "name": "stdout"
        }
      ]
    },
    {
      "cell_type": "markdown",
      "metadata": {
        "id": "MncMdKbI_WtC"
      },
      "source": [
        "#slicing\n",
        "sintaxis [ inicio : stop : incremento]\n"
      ]
    },
    {
      "cell_type": "code",
      "metadata": {
        "id": "6vAjB2ex_x5L",
        "outputId": "169af438-7465-48ea-e059-67553be7906a",
        "colab": {
          "base_uri": "https://localhost:8080/",
          "height": 153
        }
      },
      "source": [
        "print(nueva[0])\n",
        "\n",
        "nueva = nueva.strip()\n",
        "print(nueva[len(nueva) -1])\n",
        "print(nueva[len(nueva) -1])\n",
        "\n",
        "#slicing\n",
        "print(nueva)\n",
        "print(nueva[12 : 20 : 1])\n",
        "print(nueva[-6 : : 1])\n",
        "print(nueva[-1 : -7 : -1])\n",
        "\n",
        "#valores por defecto[0 : long de la lista : 1]\n",
        "print(nueva[ :  : 2])"
      ],
      "execution_count": 31,
      "outputs": [
        {
          "output_type": "stream",
          "text": [
            "u\n",
            "o\n",
            "o\n",
            "universidad nacional autonoma de mexico\n",
            "nacional\n",
            "mexico\n",
            "ocixem\n",
            "uiesddncoa uooad eio\n"
          ],
          "name": "stdout"
        }
      ]
    },
    {
      "cell_type": "code",
      "metadata": {
        "id": "OIW4bOTjFAy-"
      },
      "source": [
        ""
      ],
      "execution_count": null,
      "outputs": []
    },
    {
      "cell_type": "markdown",
      "metadata": {
        "id": "9Edde8pHD_YR"
      },
      "source": [
        "#bool\n",
        "acepta solo valores \n",
        "True bool(1) \n",
        "False bool(0)"
      ]
    },
    {
      "cell_type": "code",
      "metadata": {
        "id": "f-tnlIV_EMdl",
        "outputId": "3e1dfbf0-5bca-4eb0-e495-f21ac7dd4e9e",
        "colab": {
          "base_uri": "https://localhost:8080/",
          "height": 85
        }
      },
      "source": [
        "print(bool(0))\n",
        "print(bool(423423))\n",
        "flag = 0\n",
        "print(bool(flag))\n",
        "print(True)\n"
      ],
      "execution_count": 34,
      "outputs": [
        {
          "output_type": "stream",
          "text": [
            "False\n",
            "True\n",
            "False\n",
            "True\n"
          ],
          "name": "stdout"
        }
      ]
    },
    {
      "cell_type": "code",
      "metadata": {
        "id": "Kl6ZawemFHZb"
      },
      "source": [
        ""
      ],
      "execution_count": null,
      "outputs": []
    },
    {
      "cell_type": "markdown",
      "metadata": {
        "id": "7pKLbwveFMes"
      },
      "source": [
        "para un comentario de una liena se usa #\n",
        "para un comentario de multiple linea, equivalente a /**/ de java y leng c se utiliza \"\"\""
      ]
    },
    {
      "cell_type": "code",
      "metadata": {
        "id": "LCR_KauMFdkR"
      },
      "source": [
        "# esto es un comentarip de linea simple\n",
        "\n",
        "\"\"\"\n",
        "Esta \n",
        " es un \n",
        "  comentario\n",
        "   multiple\n",
        "    linea\n",
        "\"\"\""
      ],
      "execution_count": null,
      "outputs": []
    },
    {
      "cell_type": "code",
      "metadata": {
        "id": "dgArrBbXFxQM"
      },
      "source": [
        ""
      ],
      "execution_count": null,
      "outputs": []
    },
    {
      "cell_type": "markdown",
      "metadata": {
        "id": "4Vnv2rSGFyce"
      },
      "source": [
        "# Funcion print\n",
        "hay  4 formas de usar print\n",
        "1. con comqs (,)\n",
        "2. cpm signo + (+)\n",
        "3. con la funcion format() de la clase string\n",
        "4. con el operador f\"\""
      ]
    },
    {
      "cell_type": "code",
      "metadata": {
        "id": "X_9v4QikGJs3",
        "outputId": "4200cc50-5ebf-4da9-bab0-a66e8558609f",
        "colab": {
          "base_uri": "https://localhost:8080/",
          "height": 85
        }
      },
      "source": [
        "# con comas\n",
        "cantidad = 2\n",
        "precio_chetos = 8\n",
        "precio_fanta = 12\n",
        "print(cantidad,precio_chetos,precio_fanta)\n",
        "\n",
        "#con signo (+) solo opera con str\n",
        "print(\"hola\"+\"mundo\")\n",
        "print(cantidad+precio_chetos+precio_fanta)\n",
        "print(str(cantidad) + str(precio_chetos) + str(precio_fanta))"
      ],
      "execution_count": 39,
      "outputs": [
        {
          "output_type": "stream",
          "text": [
            "2 8 12\n",
            "holamundo\n",
            "22\n",
            "2812\n"
          ],
          "name": "stdout"
        }
      ]
    }
  ]
}