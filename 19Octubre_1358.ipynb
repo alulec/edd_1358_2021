{
  "nbformat": 4,
  "nbformat_minor": 0,
  "metadata": {
    "colab": {
      "name": "19Octubre_1358.ipynb",
      "provenance": [],
      "authorship_tag": "ABX9TyOOPFla6G7Ak+n5eUbtVZwC",
      "include_colab_link": true
    },
    "kernelspec": {
      "name": "python3",
      "display_name": "Python 3"
    }
  },
  "cells": [
    {
      "cell_type": "markdown",
      "metadata": {
        "id": "view-in-github",
        "colab_type": "text"
      },
      "source": [
        "<a href=\"https://colab.research.google.com/github/alulec/edd_1358_2021/blob/master/19Octubre_1358.ipynb\" target=\"_parent\"><img src=\"https://colab.research.google.com/assets/colab-badge.svg\" alt=\"Open In Colab\"/></a>"
      ]
    },
    {
      "cell_type": "code",
      "metadata": {
        "id": "-fGhaRxhY4fM",
        "outputId": "8633e9d6-12e1-4210-9718-aa6bb5bfeacb",
        "colab": {
          "base_uri": "https://localhost:8080/",
          "height": 68
        }
      },
      "source": [
        "# read()\n",
        "archivo = open('frutas.txt', 'rt')\n",
        "\n",
        "data = archivo.read()\n",
        "print(data.upper())\n",
        "\n",
        "archivo.close()\n"
      ],
      "execution_count": 2,
      "outputs": [
        {
          "output_type": "stream",
          "text": [
            "LIMON, AGUACATE, FRESA, MANZANA\n",
            "CIRUELA, CAPULIN, NARANJA\n",
            "PERA, KIWI\n"
          ],
          "name": "stdout"
        }
      ]
    },
    {
      "cell_type": "code",
      "metadata": {
        "id": "S_7wEcdHeCqg",
        "outputId": "ca0e3646-25de-4a8a-ec5c-b0c300b5bf63",
        "colab": {
          "base_uri": "https://localhost:8080/",
          "height": 102
        }
      },
      "source": [
        "# read line\n",
        "archivo = open('frutas.txt', 'rt')\n",
        "\n",
        "#print(archivo.readline())\n",
        "\n",
        "data = archivo.readline()\n",
        "while data != \"\":\n",
        "    print(data)\n",
        "    data = archivo.readline()\n",
        "\n",
        "\n",
        "archivo.close()"
      ],
      "execution_count": 11,
      "outputs": [
        {
          "output_type": "stream",
          "text": [
            "limon, aguacate, fresa, manzana\n",
            "\n",
            "ciruela, capulin, naranja\n",
            "\n",
            "pera, kiwi\n"
          ],
          "name": "stdout"
        }
      ]
    },
    {
      "cell_type": "code",
      "metadata": {
        "id": "GYijyZ1kgEgf",
        "outputId": "5b14206e-4511-4732-a252-c39cd7855c4d",
        "colab": {
          "base_uri": "https://localhost:8080/",
          "height": 88
        }
      },
      "source": [
        "#read lines\n",
        "archivo = open('frutas.txt', 'rt')\n",
        "\n",
        "data = archivo.readlines()\n",
        "print(data)\n",
        "\n",
        "#print(type(data)\n",
        "frutas = []\n",
        "for linea in data:\n",
        "    frutas.append(linea.strip())\n",
        "\n",
        "\n",
        "frutas_final = []\n",
        "for elem in frutas:\n",
        "    for fruta in elem.split(','):\n",
        "        frutas_final.append(fruta.strip())\n",
        "\n",
        "print(frutas)\n",
        "print(frutas_final)\n",
        "\n",
        "\n",
        "archivo.close()"
      ],
      "execution_count": 18,
      "outputs": [
        {
          "output_type": "stream",
          "text": [
            "['limon, aguacate, fresa, manzana\\n', 'ciruela, capulin, naranja\\n', 'pera, kiwi']\n",
            "['limon, aguacate, fresa, manzana', 'ciruela, capulin, naranja', 'pera, kiwi']\n",
            "['limon', 'aguacate', 'fresa', 'manzana', 'ciruela', 'capulin', 'naranja', 'pera', 'kiwi']\n"
          ],
          "name": "stdout"
        }
      ]
    },
    {
      "cell_type": "markdown",
      "metadata": {
        "id": "rQwRtL10lE43"
      },
      "source": [
        "# POO con Python\n",
        "- clase\n",
        "- objetos\n",
        "- atributos\n",
        "- metodos \n",
        "- metodo constructor\n",
        "- encapsulamiento (publico y privado)\n",
        "- herencia simple \n",
        "\n",
        "Declarar clases en Python se usa la \n",
        "palabra reservada class"
      ]
    },
    {
      "cell_type": "code",
      "metadata": {
        "id": "6TqDrLXDk9Uc",
        "outputId": "ab2c094c-a876-4cdd-8bbd-ae8fb91947b1",
        "colab": {
          "base_uri": "https://localhost:8080/",
          "height": 51
        }
      },
      "source": [
        "class Persona:\n",
        "    def __init__( self, edd, est):\n",
        "        self.__edad = edd\n",
        "        self.__estatura = est\n",
        "    \n",
        "    def to_string( self ):\n",
        "        print(f\"Edad = {self.__edad}, estatura = {self.__estatura}\")\n",
        "\n",
        "per1 = Persona(23, 1.78)\n",
        "per1.to_string()\n",
        "per1.__estatura = 10.4\n",
        "per1.to_string()"
      ],
      "execution_count": 27,
      "outputs": [
        {
          "output_type": "stream",
          "text": [
            "Edad = 23, estatura = 1.78\n",
            "Edad = 23, estatura = 1.78\n"
          ],
          "name": "stdout"
        }
      ]
    },
    {
      "cell_type": "code",
      "metadata": {
        "id": "AYOzGiG7cl5V"
      },
      "source": [
        "ls"
      ],
      "execution_count": null,
      "outputs": []
    }
  ]
}