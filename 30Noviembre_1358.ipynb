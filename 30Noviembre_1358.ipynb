{
  "nbformat": 4,
  "nbformat_minor": 0,
  "metadata": {
    "colab": {
      "name": "30Noviembre_1358.ipynb",
      "provenance": [],
      "authorship_tag": "ABX9TyM7FuvIAK2uW/EzjQMsokKX",
      "include_colab_link": true
    },
    "kernelspec": {
      "name": "python3",
      "display_name": "Python 3"
    }
  },
  "cells": [
    {
      "cell_type": "markdown",
      "metadata": {
        "id": "view-in-github",
        "colab_type": "text"
      },
      "source": [
        "<a href=\"https://colab.research.google.com/github/alulec/edd_1358_2021/blob/master/30Noviembre_1358.ipynb\" target=\"_parent\"><img src=\"https://colab.research.google.com/assets/colab-badge.svg\" alt=\"Open In Colab\"/></a>"
      ]
    },
    {
      "cell_type": "code",
      "metadata": {
        "id": "smdbYL0f8uR7"
      },
      "source": [
        "class Stack:\n",
        "    def __init__(self):\n",
        "        self.__data = []\n",
        "        self.__size = 0\n",
        "\n",
        "    def length(self):\n",
        "        return self.__size\n",
        "\n",
        "    def pop(self): # Extrae un elemento\n",
        "        self.__size -= 1\n",
        "        return self.__data.pop()\n",
        "\n",
        "    def peek(self): # Solo wacha el elemento \n",
        "        return self.__data[-1]\n",
        "\n",
        "    def push(self, value): #Introduce un elemento\n",
        "        self.__size += 1\n",
        "        self.__data.append(value)\n",
        "\n",
        "    def to_string(self):\n",
        "        print(\"------\")\n",
        "        for dato in self.__data[::-1]:\n",
        "            print(f\"| {dato} |\")\n",
        "            print(\"------\")\n",
        "        \n",
        "    "
      ],
      "execution_count": 14,
      "outputs": []
    },
    {
      "cell_type": "code",
      "metadata": {
        "colab": {
          "base_uri": "https://localhost:8080/"
        },
        "id": "iCUZdbS59QKW",
        "outputId": "f6f7a636-ce3d-48cf-a3c4-342d7b9b629d"
      },
      "source": [
        "pl = Stack()\n",
        "pl.push(34)\n",
        "pl.push(10)\n",
        "pl.push(45)\n",
        "pl.push(4)\n",
        "pl.push(23)\n",
        "pl.push(33)\n",
        "valor = pl.pop()\n",
        "print(valor * 2)\n",
        "pl.to_string()\n",
        "valor = pl.peek()\n",
        "print(valor * 2)\n",
        "pl.to_string()"
      ],
      "execution_count": 19,
      "outputs": [
        {
          "output_type": "stream",
          "text": [
            "66\n",
            "------\n",
            "| 23 |\n",
            "------\n",
            "| 4 |\n",
            "------\n",
            "| 45 |\n",
            "------\n",
            "| 10 |\n",
            "------\n",
            "| 34 |\n",
            "------\n",
            "46\n",
            "------\n",
            "| 23 |\n",
            "------\n",
            "| 4 |\n",
            "------\n",
            "| 45 |\n",
            "------\n",
            "| 10 |\n",
            "------\n",
            "| 34 |\n",
            "------\n"
          ],
          "name": "stdout"
        }
      ]
    },
    {
      "cell_type": "code",
      "metadata": {
        "id": "J_LRWA91zqJ-"
      },
      "source": [
        "help(list)"
      ],
      "execution_count": null,
      "outputs": []
    },
    {
      "cell_type": "code",
      "metadata": {
        "colab": {
          "base_uri": "https://localhost:8080/"
        },
        "id": "KcmrdAaZB3kT",
        "outputId": "0baf97e7-5411-4864-925c-3d92843141a4"
      },
      "source": [
        "# Aplicaciones de la estructura Stack\n",
        "# 1. Validacion de parentesis balanceados '(', '{' y '['\n",
        "#\n",
        "\n",
        "cadena = \"3*)(())((5+(4/2))\"\n",
        "\n",
        "pila = Stack()\n",
        "pila.push('#') # Caracter de pila vacia.\n",
        "for elem in cadena:\n",
        "    if elem == '(':\n",
        "        pila.push('*')\n",
        "    elif elem == ')':\n",
        "        if pila.peek() != '#':\n",
        "            pila.pop()\n",
        "        else:\n",
        "            pila.push('*') \n",
        "    else:\n",
        "        pass\n",
        "if pila.peek() == '#':\n",
        "    print(\"La expresion esta balanceada en parantesis\")\n",
        "else:\n",
        "    print(\"La expresion no esta balanceada\")"
      ],
      "execution_count": 44,
      "outputs": [
        {
          "output_type": "stream",
          "text": [
            "La expresion no esta balanceada\n"
          ],
          "name": "stdout"
        }
      ]
    }
  ]
}