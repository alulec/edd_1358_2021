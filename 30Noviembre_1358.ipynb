{
  "nbformat": 4,
  "nbformat_minor": 0,
  "metadata": {
    "colab": {
      "name": "30Noviembre_1358.ipynb",
      "provenance": [],
      "authorship_tag": "ABX9TyP5UabC9XXo18LWaIyzQIhv",
      "include_colab_link": true
    },
    "kernelspec": {
      "name": "python3",
      "display_name": "Python 3"
    }
  },
  "cells": [
    {
      "cell_type": "markdown",
      "metadata": {
        "id": "view-in-github",
        "colab_type": "text"
      },
      "source": [
        "<a href=\"https://colab.research.google.com/github/alulec/edd_1358_2021/blob/master/30Noviembre_1358.ipynb\" target=\"_parent\"><img src=\"https://colab.research.google.com/assets/colab-badge.svg\" alt=\"Open In Colab\"/></a>"
      ]
    },
    {
      "cell_type": "code",
      "metadata": {
        "id": "smdbYL0f8uR7"
      },
      "source": [
        "class Stack:\n",
        "    def __init__(self):\n",
        "        self.__data = []\n",
        "        self.__size = 0\n",
        "\n",
        "    def length(self):\n",
        "        return self.__size\n",
        "\n",
        "    def pop(self):\n",
        "        return self.__data.pop()\n",
        "        self.__size -= 1\n",
        "\n",
        "    def peek(self):\n",
        "        return self.__data[-1]\n",
        "\n",
        "    def push(self, value):\n",
        "        self.__data.append(value)\n",
        "        self.__size +=1\n",
        "\n",
        "    def to_string(self):\n",
        "        print(\"------\")\n",
        "        for dato in self.__data[::-1]:\n",
        "            print(f\"| {dato} |\")\n",
        "            print(\"------\")\n",
        "        \n",
        "    "
      ],
      "execution_count": 8,
      "outputs": []
    },
    {
      "cell_type": "code",
      "metadata": {
        "colab": {
          "base_uri": "https://localhost:8080/"
        },
        "id": "iCUZdbS59QKW",
        "outputId": "cf6f3c6e-2af7-4d6d-c881-30849d84c51c"
      },
      "source": [
        "pl = Stack()\n",
        "pl.push(34)\n",
        "pl.push(10)\n",
        "pl.push(45)\n",
        "pl.push(4)\n",
        "pl.push(23)\n",
        "pl.push(33)\n",
        "valor = pl.pop()\n",
        "print(valor * 2)\n",
        "pl.to_string()\n",
        "valor = pl.peek()\n",
        "print(valor * 2)\n",
        "pl.to_string()"
      ],
      "execution_count": 15,
      "outputs": [
        {
          "output_type": "stream",
          "text": [
            "66\n",
            "------\n",
            "| 23 |\n",
            "------\n",
            "| 4 |\n",
            "------\n",
            "| 45 |\n",
            "------\n",
            "| 10 |\n",
            "------\n",
            "| 34 |\n",
            "------\n",
            "46\n",
            "------\n",
            "| 23 |\n",
            "------\n",
            "| 4 |\n",
            "------\n",
            "| 45 |\n",
            "------\n",
            "| 10 |\n",
            "------\n",
            "| 34 |\n",
            "------\n"
          ],
          "name": "stdout"
        }
      ]
    },
    {
      "cell_type": "code",
      "metadata": {
        "colab": {
          "base_uri": "https://localhost:8080/"
        },
        "id": "KcmrdAaZB3kT",
        "outputId": "035c0757-bbb6-4479-c0a4-30ecda3761f7"
      },
      "source": [
        "# Aplicaciones de la estructura Stack\n",
        "# 1. Validacion de parentesis balanceados '(', '{' y '['\n",
        "#\n",
        "\n",
        "cadena = \"b=3*(5+(4/2))\"\n",
        "#c = str(b)\n",
        "\n",
        "pila = Stack()\n",
        "pila.push('#') # Caracter de pila vacia.\n",
        "for elem in cadena:\n",
        "    if elem == '(':\n",
        "        pila.push('*')\n",
        "    elif elem == ')':\n",
        "        pila.pop()\n",
        "    else:\n",
        "        pass\n",
        "if pila.peek() == '#':\n",
        "    print(\"La expresion esta balanceada en parantesis\")\n",
        "else:\n",
        "    print(\"La expresion no esta balanceada\")"
      ],
      "execution_count": 27,
      "outputs": [
        {
          "output_type": "stream",
          "text": [
            "La expresion esta balanceada en parantesis\n"
          ],
          "name": "stdout"
        }
      ]
    }
  ]
}