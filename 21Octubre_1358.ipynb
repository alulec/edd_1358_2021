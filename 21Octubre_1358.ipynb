{
  "nbformat": 4,
  "nbformat_minor": 0,
  "metadata": {
    "colab": {
      "name": "21Octubre_1358.ipynb",
      "provenance": [],
      "authorship_tag": "ABX9TyPfQvsXo9KHQxK4U7NTx3EL",
      "include_colab_link": true
    },
    "kernelspec": {
      "name": "python3",
      "display_name": "Python 3"
    }
  },
  "cells": [
    {
      "cell_type": "markdown",
      "metadata": {
        "id": "view-in-github",
        "colab_type": "text"
      },
      "source": [
        "<a href=\"https://colab.research.google.com/github/alulec/edd_1358_2021/blob/master/21Octubre_1358.ipynb\" target=\"_parent\"><img src=\"https://colab.research.google.com/assets/colab-badge.svg\" alt=\"Open In Colab\"/></a>"
      ]
    },
    {
      "cell_type": "code",
      "metadata": {
        "id": "HL25eZV6qt1g",
        "outputId": "a247b1ac-5956-4022-af26-260c26ffef90",
        "colab": {
          "base_uri": "https://localhost:8080/",
          "height": 85
        }
      },
      "source": [
        "class SmartPhone:\n",
        "    def __init__( self, m  ):\n",
        "        self.__marca = m\n",
        "    \n",
        "    def set_marca( self, m):\n",
        "        self.__marca = m\n",
        "    def get_marca( self ):\n",
        "        return self.__marca\n",
        "    def to_string( self ):\n",
        "        return \"La marca del telefono es: \" + self.__marca\n",
        "    \n",
        "sp1 = SmartPhone( \"Huawei\")\n",
        "print( sp1.to_string())\n",
        "sp1._marca = \"iPhone x\"\n",
        "print(sp1.to_string())\n",
        "sp1.set_marca(\"Samsung\")\n",
        "print(sp1.to_string())\n",
        "print(sp1.get_marca())\n",
        "    "
      ],
      "execution_count": 6,
      "outputs": [
        {
          "output_type": "stream",
          "text": [
            "La marca del telefono es: Huawei\n",
            "La marca del telefono es: Huawei\n",
            "La marca del telefono es: Samsung\n",
            "Samsung\n"
          ],
          "name": "stdout"
        }
      ]
    },
    {
      "cell_type": "code",
      "metadata": {
        "id": "XkThaR-axbDm",
        "outputId": "8b158a29-8363-48b8-d6d9-82a3732df1c9",
        "colab": {
          "base_uri": "https://localhost:8080/",
          "height": 102
        }
      },
      "source": [
        "# estilo Python 3\n",
        "class SmartPhone:\n",
        "    def __init__( self, m): \n",
        "        self.marca = m  # llmando al metodo set\n",
        "    \n",
        "    @property\n",
        "    def marca( self ):   # define metodo get y declara self.__marca\n",
        "        return self.__marca\n",
        "\n",
        "    @marca.setter\n",
        "    def marca( self, m):\n",
        "        if m in [\"Lenovo\", \"Sony\", \"iPhone SE\", \"Huawei\", \"Xiaomi\", \"Motorola\"]:\n",
        "            self.__marca = m\n",
        "        else:\n",
        "            print(\"Asignación no valida\")\n",
        "    \n",
        "    def to_string( self ):\n",
        "        return \"Marca : \" + self.__marca\n",
        "\n",
        "sp2 = SmartPhone(\"Xiaomi\")\n",
        "print(sp2.to_string())\n",
        "sp2.__marca = \"iPhone SE\"\n",
        "print(sp2.to_string())\n",
        "sp2.marca = \"Motorola\"  # invocaion del metodo set\n",
        "print(sp2.to_string())\n",
        "\n",
        "print(sp2.marca)    # Invocacion del metodo get\n",
        " \n",
        "sp2.merca = \"awefhuearng848tsb1erhbfb jhg\"\n",
        "print( sp2.to_string())\n"
      ],
      "execution_count": 14,
      "outputs": [
        {
          "output_type": "stream",
          "text": [
            "Marca : Xiaomi\n",
            "Marca : Xiaomi\n",
            "Marca : Motorola\n",
            "Motorola\n",
            "Marca : Motorola\n"
          ],
          "name": "stdout"
        }
      ]
    },
    {
      "cell_type": "code",
      "metadata": {
        "id": "LPT5S1Hu5FCA",
        "outputId": "e965aeb4-45ad-4279-b444-b436bafa95e8",
        "colab": {
          "base_uri": "https://localhost:8080/",
          "height": 71
        }
      },
      "source": [
        "class TelefonoTrabajo(SmartPhone):\n",
        "    def __init__( self , m):\n",
        "        self.marca = m\n",
        "\n",
        "sp3 = TelefonoTrabajo(\"Motorola\")\n",
        "print(dir(sp3))\n",
        "print(sp3.to_string())"
      ],
      "execution_count": 15,
      "outputs": [
        {
          "output_type": "stream",
          "text": [
            "['_SmartPhone__marca', '__class__', '__delattr__', '__dict__', '__dir__', '__doc__', '__eq__', '__format__', '__ge__', '__getattribute__', '__gt__', '__hash__', '__init__', '__init_subclass__', '__le__', '__lt__', '__module__', '__ne__', '__new__', '__reduce__', '__reduce_ex__', '__repr__', '__setattr__', '__sizeof__', '__str__', '__subclasshook__', '__weakref__', 'marca', 'to_string']\n",
            "Marca : Motorola\n"
          ],
          "name": "stdout"
        }
      ]
    }
  ]
}