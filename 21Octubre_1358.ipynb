{
  "nbformat": 4,
  "nbformat_minor": 0,
  "metadata": {
    "colab": {
      "name": "21Octubre_1358.ipynb",
      "provenance": [],
      "authorship_tag": "ABX9TyOtX3KEr/njNBOaQ7zn+zVe",
      "include_colab_link": true
    },
    "kernelspec": {
      "name": "python3",
      "display_name": "Python 3"
    }
  },
  "cells": [
    {
      "cell_type": "markdown",
      "metadata": {
        "id": "view-in-github",
        "colab_type": "text"
      },
      "source": [
        "<a href=\"https://colab.research.google.com/github/alulec/edd_1358_2021/blob/master/21Octubre_1358.ipynb\" target=\"_parent\"><img src=\"https://colab.research.google.com/assets/colab-badge.svg\" alt=\"Open In Colab\"/></a>"
      ]
    },
    {
      "cell_type": "code",
      "metadata": {
        "id": "HL25eZV6qt1g",
        "outputId": "cd0d7fe3-6273-4985-bbfe-97f8373545bc",
        "colab": {
          "base_uri": "https://localhost:8080/",
          "height": 85
        }
      },
      "source": [
        "class SmartPhone:\n",
        "    def __init__( self, m  ):\n",
        "        self.__marca = m\n",
        "    \n",
        "    def set_marca( self, m):\n",
        "        self.__marca = m\n",
        "    def get_marca( self ):\n",
        "        return self.__marca\n",
        "    def to_string( self ):\n",
        "        return \"La marca del telefono es: \" + self.__marca\n",
        "    \n",
        "sp1 = SmartPhone( \"Huawei\")\n",
        "print( sp1.to_string())\n",
        "sp1._marca = \"iPhone x\"\n",
        "print(sp1.to_string())\n",
        "sp1.set_marca(\"Samsung\")\n",
        "print(sp1.to_string())\n",
        "print(sp1.get_marca())\n",
        "    "
      ],
      "execution_count": 35,
      "outputs": [
        {
          "output_type": "stream",
          "text": [
            "La marca del telefono es: Huawei\n",
            "La marca del telefono es: Huawei\n",
            "La marca del telefono es: Samsung\n",
            "Samsung\n"
          ],
          "name": "stdout"
        }
      ]
    },
    {
      "cell_type": "code",
      "metadata": {
        "id": "XkThaR-axbDm",
        "outputId": "fd5e07fe-f34f-4ff8-90d8-589477ab88f5",
        "colab": {
          "base_uri": "https://localhost:8080/",
          "height": 187
        }
      },
      "source": [
        "# estilo Python 3\n",
        "class SmartPhone:\n",
        "    def __init__( self, m): \n",
        "        self.marca = m  # llmando al metodo set\n",
        "    \n",
        "    @property\n",
        "    def marca( self ):   # define metodo get y declara self.__marca\n",
        "        if m in [\"Lenovo\", \"Sony\", \"iPhone SE\", \"Huawei\", \"Xiaomi\"]\n",
        "            return self.__marca\n",
        "        else:\n",
        "            print(\"Asignación no valida\")\n",
        "\n",
        "    @marca.setter\n",
        "    def marca( self, m):\n",
        "        self.__marca = m \n",
        "    \n",
        "    def to_string( self ):\n",
        "        return \"Marca : \" + self.marca\n",
        "\n",
        "sp2 = SmartPhone(\"Xiaomi\")\n",
        "print(sp2.to_string())\n",
        "sp2.__marca = \"iPhone SE\"\n",
        "print(sp2.to_string())\n",
        "sp2.marca = \"Motorola\"  # invocaion del metodo set\n",
        "print(sp2.to_string())\n",
        "\n",
        "print(sp2.marca)    # Invocacion del metodo get\n",
        " \n",
        "sp2.merca = \"awefhuearng848tsb1erhbfb jhg\"\n",
        "print( sp2.to_string())\n"
      ],
      "execution_count": 25,
      "outputs": [
        {
          "output_type": "stream",
          "text": [
            "En el metodo get de marca\n",
            "Marca : Xiaomi\n",
            "En el metodo get de marca\n",
            "Marca : Xiaomi\n",
            "En el metodo get de marca\n",
            "Marca : Motorola\n",
            "En el metodo get de marca\n",
            "Motorola\n",
            "En el metodo get de marca\n",
            "Marca : Motorola\n"
          ],
          "name": "stdout"
        }
      ]
    },
    {
      "cell_type": "code",
      "metadata": {
        "id": "LPT5S1Hu5FCA",
        "outputId": "0b1b978e-d4cb-405d-f061-21f242b50435",
        "colab": {
          "base_uri": "https://localhost:8080/",
          "height": 88
        }
      },
      "source": [
        "class TelefonoTrabajo(SmartPhone):\n",
        "    def __init__( self , m):\n",
        "        self.marca = m\n",
        "\n",
        "sp3 = TelefonoTrabajo(\"Motorola\")\n",
        "print(dir(sp3))\n",
        "print(sp3.to_string())"
      ],
      "execution_count": 27,
      "outputs": [
        {
          "output_type": "stream",
          "text": [
            "['_SmartPhone__marca', '__class__', '__delattr__', '__dict__', '__dir__', '__doc__', '__eq__', '__format__', '__ge__', '__getattribute__', '__gt__', '__hash__', '__init__', '__init_subclass__', '__le__', '__lt__', '__module__', '__ne__', '__new__', '__reduce__', '__reduce_ex__', '__repr__', '__setattr__', '__sizeof__', '__str__', '__subclasshook__', '__weakref__', 'marca', 'to_string']\n",
            "En el metodo get de marca\n",
            "Marca : Motorola\n"
          ],
          "name": "stdout"
        }
      ]
    }
  ]
}