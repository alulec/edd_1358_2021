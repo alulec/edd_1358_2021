{
  "nbformat": 4,
  "nbformat_minor": 0,
  "metadata": {
    "colab": {
      "name": "27Noviembre_1358.ipynb",
      "provenance": [],
      "authorship_tag": "ABX9TyPoQlsQG46Fld1ysRyty1Lf",
      "include_colab_link": true
    },
    "kernelspec": {
      "name": "python3",
      "display_name": "Python 3"
    }
  },
  "cells": [
    {
      "cell_type": "markdown",
      "metadata": {
        "id": "view-in-github",
        "colab_type": "text"
      },
      "source": [
        "<a href=\"https://colab.research.google.com/github/alulec/edd_1358_2021/blob/master/27Noviembre_1358.ipynb\" target=\"_parent\"><img src=\"https://colab.research.google.com/assets/colab-badge.svg\" alt=\"Open In Colab\"/></a>"
      ]
    },
    {
      "cell_type": "code",
      "metadata": {
        "id": "0cl6SqyVeOsU"
      },
      "source": [
        "class Nodo:\n",
        "    def __init__(self, value, next=None):\n",
        "        self.dato = value\n",
        "        self.next = next\n",
        "\n",
        "class CircularList:\n",
        "    def __init__(self):\n",
        "        self.__ref = None\n",
        "        self.__size = 0\n",
        "\n",
        "    def is_empty(self):\n",
        "        return self.__size == 0\n",
        "\n",
        "    def insert(self, value):\n",
        "        if self.__size == 0:\n",
        "            self.__ref = Nodo(value)\n",
        "        elif self.__size == 1:\n",
        "            if value < self.__ref.dato:\n",
        "                nuevo = Nodo(value, self.__ref)\n",
        "                self.__ref.next = nuevo\n",
        "            else:\n",
        "                nuevo = Nodo(value, self.__ref)\n",
        "                self.__ref.next = nuevo\n",
        "                self.__ref = nuevo    \n",
        "        else:\n",
        "            if value > self.__ref.dato:\n",
        "                nuevo = Nodo(value, self.__ref.next)\n",
        "                self.__ref.next = nuevo\n",
        "                self.__ref = nuevo\n",
        "            elif value < self.__ref.next.dato:\n",
        "                nuevo = Nodo(value, self.__ref.next)\n",
        "                self.__ref.next = nuevo\n",
        "            else:\n",
        "                curr_node = self.__ref.next\n",
        "                while curr_node.dato < value:\n",
        "                    ant = curr_node\n",
        "                    curr_node = curr_node.next\n",
        "                nuevo = Nodo(value, curr_node)\n",
        "                ant.next = nuevo\n",
        "        self.__size += 1\n",
        "\n",
        "    def transversal(self):\n",
        "        if self.__size == 1:\n",
        "            print(self.__ref.dato)\n",
        "        else:\n",
        "            curr_node = self.__ref.next\n",
        "            while curr_node.dato < self.__ref.dato:\n",
        "                print(\"|\" + str(curr_node.dato) + \"|->\", end=\"\")\n",
        "                curr_node = curr_node.next\n",
        "            print(\"|\" + str(self.__ref.dato) + \"|->\")\n",
        "\n",
        "    def search(self, value):\n",
        "        curr_node = self.__ref.next\n",
        "        cont = False\n",
        "        for x in range(self.__size):\n",
        "            if value == curr_node.dato:\n",
        "                cont = True\n",
        "            curr_node = curr_node.next\n",
        "        return cont\n",
        "\n",
        "    def remove(self, value):\n",
        "        curr_node = self.__ref.next\n",
        "        ant = None\n",
        "        while curr_node.dato != value:\n",
        "            ant = curr_node\n",
        "            curr_node = curr_node.next\n",
        "        ant.next = curr_node.next\n"
      ],
      "execution_count": 79,
      "outputs": []
    },
    {
      "cell_type": "code",
      "metadata": {
        "colab": {
          "base_uri": "https://localhost:8080/"
        },
        "id": "7g-9bB-hB6F2",
        "outputId": "db750e27-d81d-44df-a6ab-7d8e98757d7f"
      },
      "source": [
        "cl = CircularList()\n",
        "cl.insert(10)\n",
        "cl.insert(5)\n",
        "cl.insert(7)\n",
        "cl.insert(1)\n",
        "cl.insert(3)\n",
        "cl.insert(8)\n",
        "cl.insert(0)\n",
        "cl.insert(12)\n",
        "cl.transversal()\n",
        "cl.remove(10)\n",
        "print()\n",
        "cl.transversal()\n",
        "print(cl.search(20))"
      ],
      "execution_count": 78,
      "outputs": [
        {
          "output_type": "stream",
          "text": [
            "|0|->|1|->|3|->|5|->|7|->|8|->|10|->|12|->\n",
            "\n",
            "|0|->|1|->|3|->|5|->|7|->|8|->|12|->\n",
            "False\n"
          ],
          "name": "stdout"
        }
      ]
    }
  ]
}