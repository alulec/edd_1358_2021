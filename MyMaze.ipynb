{
  "nbformat": 4,
  "nbformat_minor": 0,
  "metadata": {
    "colab": {
      "name": "MyMaze.ipynb",
      "provenance": [],
      "authorship_tag": "ABX9TyPPgMQHkhB9xFTZTUyruiHG",
      "include_colab_link": true
    },
    "kernelspec": {
      "name": "python3",
      "display_name": "Python 3"
    }
  },
  "cells": [
    {
      "cell_type": "markdown",
      "metadata": {
        "id": "view-in-github",
        "colab_type": "text"
      },
      "source": [
        "<a href=\"https://colab.research.google.com/github/alulec/edd_1358_2021/blob/master/MyMaze.ipynb\" target=\"_parent\"><img src=\"https://colab.research.google.com/assets/colab-badge.svg\" alt=\"Open In Colab\"/></a>"
      ]
    },
    {
      "cell_type": "code",
      "metadata": {
        "id": "N5FTgN4oTQ_p"
      },
      "source": [
        "\"\"\"\r\n",
        "Array2D\r\n",
        "\"\"\"\r\n",
        "\r\n",
        "class Array2D:\r\n",
        "\r\n",
        "    def __init__(self,rows, cols, value):\r\n",
        "        self.__cols = cols\r\n",
        "        self.__rows = rows\r\n",
        "        self.__array=[[value for x in range(self.__cols)] for y in range(self.__rows)]\r\n",
        "\r\n",
        "    def to_string(self):\r\n",
        "        [print(\"---\",end=\"\") for x in range(self.__cols)]\r\n",
        "        print(\"\")\r\n",
        "        for ren in self.__array:\r\n",
        "            print(ren)\r\n",
        "        [print(\"---\",end=\"\") for x in range(self.__cols)]\r\n",
        "        print(\"\")\r\n",
        "\r\n",
        "    def get_num_rows(self):\r\n",
        "        return self.__rows\r\n",
        "\r\n",
        "    def get_num_cols(self):\r\n",
        "        return self.__cols\r\n",
        "\r\n",
        "    def get_item(self,row,col):\r\n",
        "        return self.__array[row][col]\r\n",
        "\r\n",
        "    def set_item( self , row , col , valor ):\r\n",
        "        self.__array[row][col]=valor\r\n",
        "\r\n",
        "    def clearing(self, valor=0):\r\n",
        "        for ren in range(self.__rows):\r\n",
        "            for col in range(self.__cols):\r\n",
        "                self.__array[ren][col]=valor"
      ],
      "execution_count": 55,
      "outputs": []
    },
    {
      "cell_type": "code",
      "metadata": {
        "id": "_t2FUeM0TXeX"
      },
      "source": [
        "class Stack:\r\n",
        "    def __init__(self):\r\n",
        "        self.__data = []\r\n",
        "        self.__size = 0\r\n",
        "\r\n",
        "    def pop(self):\r\n",
        "        return self.__data.pop()\r\n",
        "\r\n",
        "    def get_size(self):\r\n",
        "        return self.__size\r\n",
        "\r\n",
        "    def peak(self):\r\n",
        "        if len(self.__data) > 0:\r\n",
        "            return self.__data[-1]\r\n",
        "        else:\r\n",
        "            return None\r\n",
        "\r\n",
        "    def push(self,value):\r\n",
        "        self.__data.append(value)\r\n",
        "        self.__size += 1\r\n",
        "\r\n",
        "    def to_string(self):\r\n",
        "        print(\"__\"*5)\r\n",
        "        for dato in self.__data[::-1]:\r\n",
        "            print(f\"| {dato} |\")\r\n",
        "            print(\"__\" * 5)\r\n",
        "        print(\"\")"
      ],
      "execution_count": 71,
      "outputs": []
    },
    {
      "cell_type": "markdown",
      "metadata": {
        "id": "tEVam_NHTead"
      },
      "source": [
        "10,10\r\n",
        "6,0\r\n",
        "0,0,0,0,0,0,0,0,0,0\r\n",
        "0,0,0,0,1,0,0,0,0,0\r\n",
        "0,0,0,0,1,1,1,0,0,S\r\n",
        "0,0,1,0,1,0,1,1,1,1\r\n",
        "1,1,1,1,1,0,0,0,0,0\r\n",
        "1,0,0,0,0,0,0,0,1,0\r\n",
        "1,0,1,1,1,0,0,0,1,0\r\n",
        "1,1,1,0,1,1,1,1,1,0\r\n",
        "0,0,1,0,0,1,0,0,0,0\r\n",
        "0,0,E,0,0,1,0,0,0,0\r\n"
      ]
    },
    {
      "cell_type": "code",
      "metadata": {
        "id": "DNP4dCfqTcaU"
      },
      "source": [
        "class LberintoADT:\r\n",
        "    def __init__(self, ruta):\r\n",
        "        self.__cols = None\r\n",
        "        self.__rows = None\r\n",
        "        self.__entrada = None\r\n",
        "        self.__laberinto = None\r\n",
        "        self.__camino = Stack()\r\n",
        "\r\n",
        "        archivo = open(ruta, 'rt')\r\n",
        "        data = archivo.readlines()\r\n",
        "        self.__cols = int(data[0].split(',')[0])\r\n",
        "        self.__rows = int(data[0].split(',')[1][0:-1:])\r\n",
        "        self.__entrada = (int(data[1].split(',')[0]), int(data[1].split(',')[1][0:-1:]))\r\n",
        "        self.__camino.push(self.__entrada)\r\n",
        "        self.__laberinto = Array2D(self.__rows, self.__cols, 1)\r\n",
        "        for renglon in range(self.__rows):\r\n",
        "            info = data[renglon + 2].strip().split(',')\r\n",
        "            for columna in range(self.__cols):\r\n",
        "                self.__laberinto.set_item(renglon, columna, info[columna])\r\n",
        "\r\n",
        "    def mostrar_laberinto(self):\r\n",
        "        return self.__laberinto.to_string()\r\n",
        "\r\n",
        "    def mostrar_camino(self):\r\n",
        "        return self.__camino.to_string()"
      ],
      "execution_count": 73,
      "outputs": []
    },
    {
      "cell_type": "code",
      "metadata": {
        "colab": {
          "base_uri": "https://localhost:8080/"
        },
        "id": "QX-trmspaMcE",
        "outputId": "fb0e1824-6daf-4e56-d896-341a03cc48f2"
      },
      "source": [
        "laberinto = LberintoADT(\"/content/laberinto.txt\")\r\n",
        "laberinto.mostrar_laberinto()\r\n",
        "laberinto.mostrar_camino()"
      ],
      "execution_count": 74,
      "outputs": [
        {
          "output_type": "stream",
          "text": [
            "------------------------------\n",
            "['0', '0', '0', '0', '0', '0', '0', '0', '0', '0']\n",
            "['0', '0', '0', '0', '1', '0', '0', '0', '0', '0']\n",
            "['0', '0', '0', '0', '1', '1', '1', '0', '0', 'S']\n",
            "['0', '0', '1', '0', '1', '0', '1', '1', '1', '1']\n",
            "['1', '1', '1', '1', '1', '0', '0', '0', '0', '0']\n",
            "['1', '0', '0', '0', '0', '0', '0', '0', '1', '0']\n",
            "['1', '0', '1', '1', '1', '0', '0', '0', '1', '0']\n",
            "['1', '1', '1', '0', '1', '1', '1', '1', '1', '0']\n",
            "['0', '0', '1', '0', '0', '1', '0', '0', '0', '0']\n",
            "['0', '0', '1', '0', '0', 'E', '0', '0', '0', '0']\n",
            "------------------------------\n",
            "__________\n",
            "| (6, 0) |\n",
            "__________\n",
            "\n"
          ],
          "name": "stdout"
        }
      ]
    }
  ]
}