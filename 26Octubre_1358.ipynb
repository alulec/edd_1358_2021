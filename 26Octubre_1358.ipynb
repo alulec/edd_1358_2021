{
  "nbformat": 4,
  "nbformat_minor": 0,
  "metadata": {
    "colab": {
      "name": "26Octubre_1358.ipynb",
      "provenance": [],
      "collapsed_sections": [],
      "authorship_tag": "ABX9TyOyq0CKpO4M1mPEtsTO3SuZ",
      "include_colab_link": true
    },
    "kernelspec": {
      "name": "python3",
      "display_name": "Python 3"
    }
  },
  "cells": [
    {
      "cell_type": "markdown",
      "metadata": {
        "id": "view-in-github",
        "colab_type": "text"
      },
      "source": [
        "<a href=\"https://colab.research.google.com/github/alulec/edd_1358_2021/blob/master/26Octubre_1358.ipynb\" target=\"_parent\"><img src=\"https://colab.research.google.com/assets/colab-badge.svg\" alt=\"Open In Colab\"/></a>"
      ]
    },
    {
      "cell_type": "code",
      "metadata": {
        "id": "4m_7ERbepthr",
        "outputId": "4ad540f6-abee-468d-d9f3-8db26a09d3cf",
        "colab": {
          "base_uri": "https://localhost:8080/",
          "height": 52
        }
      },
      "source": [
        "\"\"\"\n",
        "Array\n",
        "\"\"\"\n",
        "class Array:\n",
        "    def __init__(self, tam):\n",
        "        self.__datos = [0 for x in range(tam)]\n",
        "\n",
        "    def get_item(self, index):\n",
        "        dato = 0\n",
        "        if index >= 0 and index <= len(self.__datos):\n",
        "            dato = self.__datos[index]\n",
        "        else:\n",
        "            print(\"Error en el indice\")\n",
        "        return dato\n",
        "    \n",
        "    def set_item(self, dato, index):\n",
        "        if index >= 0 and index <len(self.__datos):\n",
        "            self.__datos[index] = dato\n",
        "        else:\n",
        "            print(\"Error en el indice\")\n",
        "\n",
        "    def get_lenght(self):\n",
        "        return len(self.__datos)\n",
        "\n",
        "    def clear(self):\n",
        "        self.__datos = [dato for x in range(self.__tam)]\n",
        "\n",
        "    def __iter__(self):\n",
        "        return _getIterator(self.__datos)\n",
        "\n",
        "class _getIterator:\n",
        "    def __init__(self, arreglo ):\n",
        "        self.__arreglo = arreglo\n",
        "        self.__indice_actual = 0\n",
        "\n",
        "    def __iter__( self ):\n",
        "        return self\n",
        "\n",
        "    def __next__( self ):\n",
        "        if self.__indice_actual < len(self.__arreglo):\n",
        "            dato = self.__arreglo[self.__indice_actual]\n",
        "            self.__indice_actual += 1\n",
        "            return dato\n",
        "        else:\n",
        "            raise StopIteration\n",
        "\n",
        "\"\"\"\n",
        "mi_arreglo = Array(10)\n",
        "print(mi_arreglo.get_item(20))\n",
        "mi_arreglo.set_item(2345, 3)\n",
        "print(mi_arreglo.get_item(3))\n",
        "print(mi_arreglo.get_lenght())\n",
        "for x in mi_arreglo:\n",
        "    print(x)\n",
        "\"\"\""
      ],
      "execution_count": 66,
      "outputs": [
        {
          "output_type": "execute_result",
          "data": {
            "application/vnd.google.colaboratory.intrinsic+json": {
              "type": "string"
            },
            "text/plain": [
              "'\\nmi_arreglo = Array(10)\\nprint(mi_arreglo.get_item(20))\\nmi_arreglo.set_item(2345, 3)\\nprint(mi_arreglo.get_item(3))\\nprint(mi_arreglo.get_lenght())\\nfor x in mi_arreglo:\\n    print(x)\\n'"
            ]
          },
          "metadata": {
            "tags": []
          },
          "execution_count": 66
        }
      ]
    },
    {
      "cell_type": "code",
      "metadata": {
        "id": "o9C1xpe4TzNC"
      },
      "source": [
        "class Empleado:\n",
        "    def __init__(self, num, nom, pat, mat, he, sb, anio):\n",
        "        self.__num_trabajador = num\n",
        "        self.__nombres = nom\n",
        "        self.__paterno = pat\n",
        "        self.__materno = mat\n",
        "        self.__horas_extra = he\n",
        "        self.__sueldo_base = sb\n",
        "        self.__anio_ingreso = anio\n",
        "\n",
        "    def get_noTrabajador(self):\n",
        "        return self.__num_trabajador\n",
        "\n",
        "    def set_noTrabajador(self, num):\n",
        "        self.__num_trabajador = num\n",
        "\n",
        "    def get_nombre(self):\n",
        "        return self.__nombres\n",
        "\n",
        "    def set_nombre(self, nom):\n",
        "        self.__nombres = nom\n",
        "\n",
        "    def get_paterno(self):\n",
        "        return self.__paterno\n",
        "\n",
        "    def set_paterno(self, pat):\n",
        "        self.__paterno = pat\n",
        "\n",
        "    def get_materno(self):\n",
        "        return self.__materno\n",
        "\n",
        "    def set_materno(self, mat):\n",
        "        self.__materno = mat\n",
        "\n",
        "    def get_horasExtra(self):\n",
        "        return self.__horas_extra\n",
        "\n",
        "    def set_horasExtra(self, hora):\n",
        "        self.__horas_extra += hora\n",
        "\n",
        "    def get_sueldoBase(Self):\n",
        "        return self.__sueldo_base\n",
        "\n",
        "    def set_sueldoBase(self, sueldo):\n",
        "        self.__sueldo_base = __sueldo\n",
        "\n",
        "    def get_anioIngreso(self):\n",
        "        return self.__anio_ingreso\n",
        "\n",
        "    def set_anioIngreso(Self, anio):\n",
        "        self.__anio_ingreso = __anio\n",
        "\n",
        "    def to_string(self):\n",
        "        return (self.__num_trabajador , self.__nombres , self.__paterno ,\n",
        "                self.__materno , self.__horas_extra , self.__sueldo_base ,\n",
        "                self.__anio_ingreso)\n"
      ],
      "execution_count": 67,
      "outputs": []
    },
    {
      "cell_type": "code",
      "metadata": {
        "id": "-1rIJwO-WA1y"
      },
      "source": [
        "\"\"\"\n",
        "ADT sueldos encapsula datos de nomina\n",
        "cargar_datos(ruta_archivo) --> lee archivo y lo acraga a un ADT Array\n",
        "calcular_sueldos()\n",
        "reportar_mayor_antiguedad()\n",
        "reportar_menor_ant()\n",
        "\"\"\"\n",
        "\n",
        "class Empleados: #Caragar datos a un tipo de dato Array() que contenga toda la informacion\n",
        "    def __init__(self, ruta_archivo):\n",
        "        archivo = open(ruta_archivo, \"rt\", encoding='latin1')\n",
        "        self.__informacion = archivo.readlines() # Contiene toda la informacion del archivo cargado\n",
        "        archivo.close()\n",
        "        self.__empleados = Array(len(self.__informacion) -1) # Crea y asigna el valor a un Array que contendra a los empleados\n",
        "\n",
        "    def get_empleados(self):\n",
        "        return self.__empleados # te devuelve un Array() que contiene a todos los empleados\n",
        "\n",
        "    def get_empleado(self, x): #te regresara una tupla con el empleado solicitado\n",
        "        empleado = self.__empleados.get_item(x)\n",
        "        return empleado.to_string()\n",
        "\n",
        "    def get_lenght(self):\n",
        "        return self.__empleados.get_lenght()\n",
        "\n",
        "    def crear_empleados(self): # Crea un empleado por cada linea en la variable informacion\n",
        "        # Mi tarea\n",
        "        linea = 1\n",
        "        indice = 0\n",
        "        while (linea < len(self.__informacion)):\n",
        "            datosEmpleado = self.__informacion[linea].split(\",\")\n",
        "            empleado = Empleado(datosEmpleado[0], datosEmpleado[1], \n",
        "                                datosEmpleado[2], datosEmpleado[3], \n",
        "                                datosEmpleado[4], datosEmpleado[5], \n",
        "                                datosEmpleado[6][0:4:1])\n",
        "            self.__empleados.set_item(empleado, indice)\n",
        "            indice += 1\n",
        "            linea += 1\n",
        "\n",
        "    def to_string(self):\n",
        "        cantidadEmple = \"Numero de empleados \" + str(self.__empleados.get_lenght())\n",
        "        emple = \"\"\n",
        "        x = 0\n",
        "        while x < self.__empleados.get_lenght():\n",
        "            emple = emple + str(self.__empleados.get_item(x).to_string()) + \"\\n\"\n",
        "            x += 1\n",
        "        return print(cantidadEmple + \"\\n\" + str(emple))\n",
        "\n",
        "\n",
        "empleados = Empleados('/content/junio.dat')\n",
        "empleados.crear_empleados()\n",
        "#empleados.to_string()\n",
        "#print(empleados.get_lenght())"
      ],
      "execution_count": 68,
      "outputs": []
    },
    {
      "cell_type": "code",
      "metadata": {
        "id": "H7JtImJDB_vl",
        "outputId": "f4a6fb98-1524-4acd-f5fb-44dff86c46ca",
        "colab": {
          "base_uri": "https://localhost:8080/"
        }
      },
      "source": [
        "class NominaEmpresa:\n",
        "    def __init__(self, empl):\n",
        "        self.__empleados = empl\n",
        "        \n",
        "    def get_empleado(self, x):\n",
        "        return self.__empleados.get_empleado(x)\n",
        "\n",
        "    def sueldo(self, num):\n",
        "        porcentaje = (2020 - int(self.__empleados.get_empleado(num)[6]))*0.03\n",
        "        prestacion = porcentaje * int(self.__empleados.get_empleado(num)[5])\n",
        "        horasExtra = int(self.__empleados.get_empleado(num)[4]) * 276.5\n",
        "        sue = int(self.__empleados.get_empleado(num)[5]) + prestacion + horasExtra\n",
        "        return sue\n",
        "\n",
        "    def get_cantidadEmpl(self):\n",
        "        return self.__empleados.get_lenght()\n",
        "\n",
        "    def antiguedad(self):\n",
        "        menor = 100\n",
        "        mayor = 0\n",
        "        men = \" \" \n",
        "        may = \" \"\n",
        "        x = 0\n",
        "        while x < self.__empleados.get_lenght():\n",
        "            anios = 2020 - int(self.__empleados.get_empleado(x)[6])\n",
        "            noEmple = self.__empleados.get_empleado(x)[0] + \" \"\n",
        "            if anios < menor:\n",
        "                menor = anios\n",
        "                men = noEmple\n",
        "            elif anios == menor:\n",
        "                men = men + noEmple + \" \"\n",
        "            \n",
        "            if anios > mayor:\n",
        "                mayor = anios\n",
        "                may = noEmple\n",
        "            elif anios == mayor:\n",
        "                may = may + noEmple + \" \"\n",
        "\n",
        "            x +=1\n",
        "       \n",
        "        return print(\"Los empleados con mayor antiguedad son: \" + may + \"\\n\" +\n",
        "                \"Los empleados con menor antiguedad son: \" + men)\n",
        "\n",
        "\n",
        "    \n",
        "\n",
        "\n",
        "nomina = NominaEmpresa(empleados)\n",
        "x = 0\n",
        "while x < nomina.get_cantidadEmpl():\n",
        "    print(\"Empleado: \" + nomina.get_empleado(x)[0] + \"   Sueldo: \" + str(nomina.sueldo(x)))\n",
        "    x += 1\n",
        "print()\n",
        "nomina.antiguedad()"
      ],
      "execution_count": 69,
      "outputs": [
        {
          "output_type": "stream",
          "text": [
            "Empleado: 2345   Sueldo: 10736.5\n",
            "Empleado: 5754   Sueldo: 10126.5\n",
            "Empleado: 5345   Sueldo: 11585.0\n",
            "Empleado: 3267   Sueldo: 11289.5\n",
            "Empleado: 8765   Sueldo: 11289.5\n",
            "Empleado: 5454   Sueldo: 11270.5\n",
            "Empleado: 3456   Sueldo: 10994.0\n",
            "Empleado: 3445   Sueldo: 10717.5\n",
            "Empleado: 9088   Sueldo: 11013.0\n",
            "Empleado: 8877   Sueldo: 11289.5\n",
            "Empleado: 6767   Sueldo: 11251.5\n",
            "Empleado: 5654   Sueldo: 10422.0\n",
            "Empleado: 4323   Sueldo: 10403.0\n",
            "Empleado: 2232   Sueldo: 11308.5\n",
            "\n",
            "Los empleados con mayor antiguedad son: 5345 2232  \n",
            "Los empleados con menor antiguedad son: 5754 4323  \n"
          ],
          "name": "stdout"
        }
      ]
    },
    {
      "cell_type": "code",
      "metadata": {
        "id": "D_LNslLkk679",
        "outputId": "1b49d39b-4e1c-4fd2-8795-503667d84770",
        "colab": {
          "base_uri": "https://localhost:8080/"
        }
      },
      "source": [
        "archivo = open('/content/junio.dat', \"rt\", encoding='latin1')\n",
        "lineas = archivo.readlines()\n",
        "archivo.close()\n",
        "linea = lineas[0].split(\",\")\n",
        "n = len(lineas)\n",
        "print(linea[0][0])"
      ],
      "execution_count": 70,
      "outputs": [
        {
          "output_type": "stream",
          "text": [
            "n\n"
          ],
          "name": "stdout"
        }
      ]
    },
    {
      "cell_type": "code",
      "metadata": {
        "id": "A9aiIyOYakCi"
      },
      "source": [
        "# https://github.com/jeshc/edd_1358_2021/blob/master/26octubre_1358.ipynb"
      ],
      "execution_count": 71,
      "outputs": []
    }
  ]
}