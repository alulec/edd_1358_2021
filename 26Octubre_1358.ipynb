{
  "nbformat": 4,
  "nbformat_minor": 0,
  "metadata": {
    "colab": {
      "name": "26Octubre_1358.ipynb",
      "provenance": [],
      "authorship_tag": "ABX9TyM3gIISEXfa6rfU6U6v1aUU",
      "include_colab_link": true
    },
    "kernelspec": {
      "name": "python3",
      "display_name": "Python 3"
    }
  },
  "cells": [
    {
      "cell_type": "markdown",
      "metadata": {
        "id": "view-in-github",
        "colab_type": "text"
      },
      "source": [
        "<a href=\"https://colab.research.google.com/github/alulec/edd_1358_2021/blob/master/26Octubre_1358.ipynb\" target=\"_parent\"><img src=\"https://colab.research.google.com/assets/colab-badge.svg\" alt=\"Open In Colab\"/></a>"
      ]
    },
    {
      "cell_type": "code",
      "metadata": {
        "id": "4m_7ERbepthr",
        "outputId": "59db229e-e262-4236-f73e-1f5c1eca518d",
        "colab": {
          "base_uri": "https://localhost:8080/"
        }
      },
      "source": [
        "\"\"\"\n",
        "Array\n",
        "\"\"\"\n",
        "class Array:\n",
        "    def __init__(self, tam):\n",
        "        self.__datos = [0 for x in range(tam)]\n",
        "\n",
        "    def get_item(self, index):\n",
        "        dato = 0\n",
        "        if index >= 0 and index < len(self.__datos):\n",
        "            dato = self.__datos[index]\n",
        "        else:\n",
        "            print(\"Error en el indice\")\n",
        "        return dato\n",
        "    \n",
        "    def set_item(self, dato, index):\n",
        "        if index >= 0 and index <len(self.__datos):\n",
        "            self.__datos[index] = dato\n",
        "        else:\n",
        "            print(\"Error en el indice\")\n",
        "\n",
        "    def get_length(self):\n",
        "        return len(self.__datos)\n",
        "\n",
        "    def clear(self):\n",
        "        self.__datos = [dato for x in range(self.__tam)]\n",
        "\n",
        "    def getIterator(self):\n",
        "        return _getIterator(self.__datos)\n",
        "\n",
        "\n",
        "class _getIterator:\n",
        "    def __init__(self, arreglo ):\n",
        "        self.__arreglo = arreglo\n",
        "        self.__indice_actual = 0\n",
        "\n",
        "    def __iter__( self ):\n",
        "        return self\n",
        "\n",
        "    def __next__(self ):\n",
        "        if self.__indice_actual < len(self.__arreglo):\n",
        "            dato = self.__arreglo[self.__indice_actual]\n",
        "            self.__indice_actual += 1\n",
        "            return dato\n",
        "        else:\n",
        "            raise StopIteration\n",
        "\n",
        "\n",
        "mi_arreglo = Array(10)\n",
        "print(mi_arreglo.get_item(20))\n",
        "mi_arreglo.set_item(2345, 3)\n",
        "print(mi_arreglo.get_item(3))\n",
        "\n",
        "for x in mi_arreglo.getIterator():\n",
        "    print(x)"
      ],
      "execution_count": 15,
      "outputs": [
        {
          "output_type": "stream",
          "text": [
            "Error en el indice\n",
            "0\n",
            "2345\n",
            "0\n",
            "0\n",
            "0\n",
            "2345\n",
            "0\n",
            "0\n",
            "0\n",
            "0\n",
            "0\n",
            "0\n"
          ],
          "name": "stdout"
        }
      ]
    }
  ]
}