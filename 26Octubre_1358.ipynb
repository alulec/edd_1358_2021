{
  "nbformat": 4,
  "nbformat_minor": 0,
  "metadata": {
    "colab": {
      "name": "26Octubre_1358.ipynb",
      "provenance": [],
      "collapsed_sections": [],
      "authorship_tag": "ABX9TyMyxT3LYyyfBZDMnQEbBSQL",
      "include_colab_link": true
    },
    "kernelspec": {
      "name": "python3",
      "display_name": "Python 3"
    }
  },
  "cells": [
    {
      "cell_type": "markdown",
      "metadata": {
        "id": "view-in-github",
        "colab_type": "text"
      },
      "source": [
        "<a href=\"https://colab.research.google.com/github/alulec/edd_1358_2021/blob/master/26Octubre_1358.ipynb\" target=\"_parent\"><img src=\"https://colab.research.google.com/assets/colab-badge.svg\" alt=\"Open In Colab\"/></a>"
      ]
    },
    {
      "cell_type": "code",
      "metadata": {
        "id": "4m_7ERbepthr",
        "outputId": "79b37eb2-76a6-4a8d-9ca7-b9aee9d75a73",
        "colab": {
          "base_uri": "https://localhost:8080/",
          "height": 52
        }
      },
      "source": [
        "\"\"\"\n",
        "Array\n",
        "\"\"\"\n",
        "class Array:\n",
        "    def __init__(self, tam):\n",
        "        self.__datos = [0 for x in range(tam)]\n",
        "\n",
        "    def get_item(self, index):\n",
        "        dato = 0\n",
        "        if index >= 0 and index < len(self.__datos):\n",
        "            dato = self.__datos[index]\n",
        "        else:\n",
        "            print(\"Error en el indice\")\n",
        "        return dato\n",
        "    \n",
        "    def set_item(self, dato, index):\n",
        "        if index >= 0 and index <len(self.__datos):\n",
        "            self.__datos[index] = dato\n",
        "        else:\n",
        "            print(\"Error en el indice\")\n",
        "\n",
        "    def get_length(self):\n",
        "        return len(self.__datos)\n",
        "\n",
        "    def clear(self):\n",
        "        self.__datos = [dato for x in range(self.__tam)]\n",
        "\n",
        "    def __iter__(self):\n",
        "        return _getIterator(self.__datos)\n",
        "\n",
        "\n",
        "class _getIterator:\n",
        "    def __init__(self, arreglo ):\n",
        "        self.__arreglo = arreglo\n",
        "        self.__indice_actual = 0\n",
        "\n",
        "    def __iter__( self ):\n",
        "        return self\n",
        "\n",
        "    def __next__(self ):\n",
        "        if self.__indice_actual < len(self.__arreglo):\n",
        "            dato = self.__arreglo[self.__indice_actual]\n",
        "            self.__indice_actual += 1\n",
        "            return dato\n",
        "        else:\n",
        "            raise StopIteration\n",
        "\n",
        "\"\"\"\n",
        "mi_arreglo = Array(10)\n",
        "print(mi_arreglo.get_item(20))\n",
        "mi_arreglo.set_item(2345, 3)\n",
        "print(mi_arreglo.get_item(3))\n",
        "\n",
        "for x in mi_arreglo:\n",
        "    print(x)\n",
        "\"\"\""
      ],
      "execution_count": 11,
      "outputs": [
        {
          "output_type": "execute_result",
          "data": {
            "application/vnd.google.colaboratory.intrinsic+json": {
              "type": "string"
            },
            "text/plain": [
              "'\\nmi_arreglo = Array(10)\\nprint(mi_arreglo.get_item(20))\\nmi_arreglo.set_item(2345, 3)\\nprint(mi_arreglo.get_item(3))\\n\\nfor x in mi_arreglo:\\n    print(x)\\n'"
            ]
          },
          "metadata": {
            "tags": []
          },
          "execution_count": 11
        }
      ]
    },
    {
      "cell_type": "code",
      "metadata": {
        "id": "o9C1xpe4TzNC"
      },
      "source": [
        "class Empleado:\n",
        "    def __init__(self, num, nom, pat, mat, he, sb, anio):\n",
        "        self.__num_trabajador = num\n",
        "        self.__nombres = nom\n",
        "        self.__paterno = pat\n",
        "        self.__materno = mat\n",
        "        self.__horas_extra = he\n",
        "        self.__sueldo_base = sb\n",
        "        self.__anio_ingreso = anio\n",
        "\n",
        "    def get_noTrabajador(self):\n",
        "        return self.__num_trabajador\n",
        "\n",
        "    def set_noTrabajador(self, num):\n",
        "        self.__num_trabajador = num\n",
        "\n",
        "    def get_nombre(self):\n",
        "        return self.__nombres\n",
        "\n",
        "    def set_nombre(self, nom):\n",
        "        self.__nombres = nom\n",
        "\n",
        "    def get_paterno(self):\n",
        "        return self.__paterno\n",
        "\n",
        "    def set_paterno(self, pat):\n",
        "        self.__paterno = pat\n",
        "\n",
        "    def get_materno(self):\n",
        "        return self.__materno\n",
        "\n",
        "    def set_materno(self, mat):\n",
        "        self.__materno = mat\n",
        "\n",
        "    def get_horasExtra(self):\n",
        "        return self.__horas_extra\n",
        "\n",
        "    def set_horasExtra(self, hora):\n",
        "        self.__horas_extra += hora\n",
        "\n",
        "    def get_sueldoBase(Self):\n",
        "        return self.__sueldo_base\n",
        "\n",
        "    def set_sueldoBase(self, sueldo):\n",
        "        self.__sueldo_base = __sueldo\n",
        "\n",
        "    def get_anioIngreso(self):\n",
        "        return self.__anio_ingreso\n",
        "\n",
        "    def set_anioIngreso(Self, anio):\n",
        "        self.__anio_ingreso = __anio\n",
        "\n",
        "    def to_string(self):\n",
        "        return (self.__num_trabajador , self.__nombresself.__paterno ,\n",
        "                self.__materno , self.__horas_extra , self.__sueldo_base ,\n",
        "                self.__anio_ingreso)\n"
      ],
      "execution_count": 9,
      "outputs": []
    },
    {
      "cell_type": "code",
      "metadata": {
        "id": "-1rIJwO-WA1y",
        "outputId": "8e13641a-0b8a-4b55-cfb0-ff139a5c05f8",
        "colab": {
          "base_uri": "https://localhost:8080/"
        }
      },
      "source": [
        "\"\"\"\n",
        "ADT sueldos encapsula datos de nomina\n",
        "\n",
        "cargar_datos(ruta_archivo) --> lee archivo y lo acraga a un ADT Array\n",
        "calcular_sueldos()\n",
        "reportar_mayor_antiguedad()\n",
        "reportar_menor_ant()\n",
        "\"\"\"\n",
        "\n",
        "class Sueldos:\n",
        "    def __init__(self, ):\n",
        "        self.__data = None\n",
        "\n",
        "\n",
        "    def cargar_datos(self, ruta_archivo):\n",
        "        archivo = open(ruta_archivo, \"rt\", encoding='latin1')\n",
        "        lineas = archivo.readlines()\n",
        "        archivo.close()\n",
        "        self.data = Array( len(lineas))\n",
        "        # Mi tarea\n",
        "        for linea in lineas:\n",
        "            print(linea)\n",
        "            # separar campos y casting de algunos campos\n",
        "            # crear un objeto de empleado\n",
        "            # ese objeto a self.__data.set_item()\n",
        "ejemplo = Sueldos()\n",
        "ejemplo.cargar_datos('/content/junio.dat')"
      ],
      "execution_count": 14,
      "outputs": [
        {
          "output_type": "stream",
          "text": [
            "numero de trabajador, nombres, paterno, materno, horas extra, sueldo base, aÃ±o de ingreso\n",
            "\n",
            "2345,CARLOS,PEREZ,CASTILLO,0,9850,2017\n",
            "\n",
            "5754,ANGEL,GOMEZ,GARRIDO,1,9850,2020\n",
            "\n",
            "5345,JESUS,MARTIN,SANTOS,2,9850,2016\n",
            "\n",
            "3267,DAVID,JIMENEZ,LOZANO,2,9850,2017\n",
            "\n",
            "8765,PEDRO,RUIZ,GUERRERO,2,9850,2017\n",
            "\n",
            "5454,DANIEL,HERNANDEZ,CANO,3,9850,2018\n",
            "\n",
            "3456,ALEJANDRO,DIAZ,PRIETO,2,9850,2018\n",
            "\n",
            "3445,MARIA,MORENO,MENDEZ,1,9850,2018\n",
            "\n",
            "9088,ALBERTO,MUOZ,CRUZ,1,9850,2017\n",
            "\n",
            "8877,RAFAEL,ALVAREZ,FLORES,2,9850,2017\n",
            "\n",
            "6767,FERNANDO,ROMERO,HERRERA,4,9850,2019\n",
            "\n",
            "5654,PABLO,ALONSO,GALLEGO,1,9850,2019\n",
            "\n",
            "4323,JORGE,GUTIERREZ,MARQUEZ,2,9850,2020\n",
            "\n",
            "2232,RAMON,NAVARRO,LEON,1,9850,2016\n"
          ],
          "name": "stdout"
        }
      ]
    },
    {
      "cell_type": "code",
      "metadata": {
        "id": "K1d4zLiXoTWA"
      },
      "source": [
        "from google.colab import drive\n",
        "drive.mount('/content/drive')"
      ],
      "execution_count": null,
      "outputs": []
    }
  ]
}