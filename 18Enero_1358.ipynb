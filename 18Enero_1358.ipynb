{
  "nbformat": 4,
  "nbformat_minor": 0,
  "metadata": {
    "colab": {
      "name": "18Enero_1358.ipynb",
      "provenance": [],
      "authorship_tag": "ABX9TyPgiEcYsYrMes2JmUOBO3eT",
      "include_colab_link": true
    },
    "kernelspec": {
      "name": "python3",
      "display_name": "Python 3"
    }
  },
  "cells": [
    {
      "cell_type": "markdown",
      "metadata": {
        "id": "view-in-github",
        "colab_type": "text"
      },
      "source": [
        "<a href=\"https://colab.research.google.com/github/alulec/edd_1358_2021/blob/master/18Enero_1358.ipynb\" target=\"_parent\"><img src=\"https://colab.research.google.com/assets/colab-badge.svg\" alt=\"Open In Colab\"/></a>"
      ]
    },
    {
      "cell_type": "code",
      "metadata": {
        "id": "Jjmlxjq1P3ew"
      },
      "source": [
        "class NodoArbol:\r\n",
        "    def __init__(self, value, left=None, right=None):\r\n",
        "        self.data = value\r\n",
        "        self.left = left\r\n",
        "        self.right = right"
      ],
      "execution_count": 1,
      "outputs": []
    },
    {
      "cell_type": "code",
      "metadata": {
        "id": "gIH7WARBSw4h"
      },
      "source": [
        "class ArbolBinarioBusqueda:\r\n",
        "    def __init__(self):\r\n",
        "        self.__root = None\r\n",
        "\r\n",
        "    def insert(self, value):\r\n",
        "        if self.__root == None:\r\n",
        "            self.__root = NodoArbol(value)\r\n",
        "        else:\r\n",
        "            self.__insert__(self.__root, value)\r\n",
        "\r\n",
        "    def __insert__(self, nodo, value): # recursividad\r\n",
        "        if nodo.data == value:\r\n",
        "            print(\"El nodo ya existe, No se inserta: \", value)\r\n",
        "        elif value < nodo.data:\r\n",
        "            # ir a la izq\r\n",
        "            if nodo.left == None:\r\n",
        "                nodo.left = NodoArbol(value)\r\n",
        "            else:\r\n",
        "                self.__insert__(nodo.left, value)\r\n",
        "        else:\r\n",
        "            # ir a la derecha\r\n",
        "            if nodo.right == None:\r\n",
        "                nodo.right = NodoArbol(value)\r\n",
        "            else:\r\n",
        "                self.__insert__(nodo.right, value)\r\n",
        "\r\n",
        "    def transversal(self, format=\"in\"): # in, pos, pre\r\n",
        "        if format == \"in\":\r\n",
        "            self.__recorrido_in(self.__root)\r\n",
        "        elif format == \"pre\":\r\n",
        "            self.__recorrido_pre(self.__root)\r\n",
        "        elif format == \"pos\":\r\n",
        "            self.__recorrido_pos(self.__root)\r\n",
        "        else:\r\n",
        "            print(\"Formato no valido\")\r\n",
        "\r\n",
        "    def __recorrido_in(self, nodo):\r\n",
        "        if nodo == None:\r\n",
        "            #print(\"Caso base\")\r\n",
        "            pass\r\n",
        "        else:\r\n",
        "            self.__recorrido_in(nodo.left)\r\n",
        "            print(nodo.data, end=\",\")\r\n",
        "            self.__recorrido_in(nodo.right)  \r\n",
        "\r\n",
        "    def __recorrido_pre(self, nodo):\r\n",
        "        if nodo == None:\r\n",
        "            #print(\"Caso base\")\r\n",
        "            pass\r\n",
        "        else:\r\n",
        "            print(nodo.data, end=\",\")\r\n",
        "            self.__recorrido_pre(nodo.left)\r\n",
        "            self.__recorrido_pre(nodo.right) \r\n",
        "\r\n",
        "    def __recorrido_pos(self, nodo):\r\n",
        "        if nodo == None:\r\n",
        "            #print(\"Caso base\")\r\n",
        "            pass\r\n",
        "        else:\r\n",
        "            self.__recorrido_pos(nodo.left)\r\n",
        "            self.__recorrido_pos(nodo.right) \r\n",
        "            print(nodo.data, end=\",\") \r\n",
        "\r\n",
        "    def search(self, value):  \r\n",
        "        if self.__root == None:\r\n",
        "            print(\"Arbol vacio\")\r\n",
        "        else:\r\n",
        "            return self.__search(self.__root, value)\r\n",
        "\r\n",
        "    def __search(self, nodo, value):\r\n",
        "        if nodo == None:\r\n",
        "            return None\r\n",
        "        elif nodo.data == value:\r\n",
        "            return nodo\r\n",
        "        elif value < nodo.data:\r\n",
        "            print(\"Ir a la izq\")\r\n",
        "            return self.__search(nodo.left, value)\r\n",
        "        else:\r\n",
        "            print(\"Ir a la der\")\r\n",
        "            return self.__search(nodo.right, value)\r\n"
      ],
      "execution_count": 37,
      "outputs": []
    },
    {
      "cell_type": "code",
      "metadata": {
        "colab": {
          "base_uri": "https://localhost:8080/",
          "height": 371
        },
        "id": "IaBurMWXdJmx",
        "outputId": "ce9e2f9c-85d9-418f-8e85-1aeddab3ff5f"
      },
      "source": [
        "abb = ArbolBinarioBusqueda()\r\n",
        "abb.insert(50)\r\n",
        "abb.insert(30)\r\n",
        "abb.insert(60)\r\n",
        "abb.insert(35)\r\n",
        "abb.insert(89)\r\n",
        "abb.insert(70)\r\n",
        "abb.insert(1)\r\n",
        "abb.transversal()\r\n",
        "print()\r\n",
        "abb.transversal(\"pre\")\r\n",
        "print()\r\n",
        "abb.transversal(\"pos\")\r\n",
        "res = abb.search(30)\r\n",
        "print(f\"El nodo es: {res.data}, hijo izq: {res.left.data}, hijo der: {res.right.data}\")\r\n",
        "res = abb.search(70)\r\n",
        "print(f\"El nodo es: {res.data}, hijo izq: {res.left.data}, hijo der: {res.right.data}\") "
      ],
      "execution_count": 38,
      "outputs": [
        {
          "output_type": "stream",
          "text": [
            "1,30,35,50,60,70,89,\n",
            "50,30,1,35,60,89,70,\n",
            "1,35,30,70,89,60,50,Ir a la izq\n",
            "El nodo es: 30, hijo izq: 1, hijo der: 35\n",
            "Ir a la der\n",
            "Ir a la der\n",
            "Ir a la izq\n"
          ],
          "name": "stdout"
        },
        {
          "output_type": "error",
          "ename": "AttributeError",
          "evalue": "ignored",
          "traceback": [
            "\u001b[0;31m---------------------------------------------------------------------------\u001b[0m",
            "\u001b[0;31mAttributeError\u001b[0m                            Traceback (most recent call last)",
            "\u001b[0;32m<ipython-input-38-7435b545a85c>\u001b[0m in \u001b[0;36m<module>\u001b[0;34m()\u001b[0m\n\u001b[1;32m     15\u001b[0m \u001b[0mprint\u001b[0m\u001b[0;34m(\u001b[0m\u001b[0;34mf\"El nodo es: {res.data}, hijo izq: {res.left.data}, hijo der: {res.right.data}\"\u001b[0m\u001b[0;34m)\u001b[0m\u001b[0;34m\u001b[0m\u001b[0;34m\u001b[0m\u001b[0m\n\u001b[1;32m     16\u001b[0m \u001b[0mres\u001b[0m \u001b[0;34m=\u001b[0m \u001b[0mabb\u001b[0m\u001b[0;34m.\u001b[0m\u001b[0msearch\u001b[0m\u001b[0;34m(\u001b[0m\u001b[0;36m70\u001b[0m\u001b[0;34m)\u001b[0m\u001b[0;34m\u001b[0m\u001b[0;34m\u001b[0m\u001b[0m\n\u001b[0;32m---> 17\u001b[0;31m \u001b[0mprint\u001b[0m\u001b[0;34m(\u001b[0m\u001b[0;34mf\"El nodo es: {res.data}, hijo izq: {res.left.data}, hijo der: {res.right.data}\"\u001b[0m\u001b[0;34m)\u001b[0m\u001b[0;34m\u001b[0m\u001b[0;34m\u001b[0m\u001b[0m\n\u001b[0m",
            "\u001b[0;31mAttributeError\u001b[0m: 'NoneType' object has no attribute 'data'"
          ]
        }
      ]
    }
  ]
}