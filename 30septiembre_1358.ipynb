{
  "nbformat": 4,
  "nbformat_minor": 0,
  "metadata": {
    "colab": {
      "name": "30septiembre_1358.ipynb",
      "provenance": [],
      "authorship_tag": "ABX9TyPSSMEK500jm+XLp4OMjLjf",
      "include_colab_link": true
    },
    "kernelspec": {
      "name": "python3",
      "display_name": "Python 3"
    }
  },
  "cells": [
    {
      "cell_type": "markdown",
      "metadata": {
        "id": "view-in-github",
        "colab_type": "text"
      },
      "source": [
        "<a href=\"https://colab.research.google.com/github/alulec/edd_1358_2021/blob/master/30septiembre_1358.ipynb\" target=\"_parent\"><img src=\"https://colab.research.google.com/assets/colab-badge.svg\" alt=\"Open In Colab\"/></a>"
      ]
    },
    {
      "cell_type": "code",
      "metadata": {
        "id": "mVx6s3FXs3fQ"
      },
      "source": [
        ""
      ],
      "execution_count": null,
      "outputs": []
    },
    {
      "cell_type": "markdown",
      "metadata": {
        "id": "IBeQXq1Atqp7"
      },
      "source": [
        "# Fundamentos Python 3\n",
        "### tipos de datos basicos\n",
        "edad = 13\n",
        "nombre = \"Jose\"\n",
        "estatura = 1.67\n",
        "tiene_ine = true\n",
        "### Compuestos\n",
        "###Listas\n",
        "son mutables se accede a los elementos via el indice \n",
        "lista_ejemplo = [\"manzana\",1.57,True,[\"rojo\",\"azul\"]]\n",
        "Tuplas\n",
        "Son inmutables se accede a los elementos via indice los elementos pueden ser ded iferente tipo\n",
        "tupla_ejemplo= {\"root\",\"123,322.45.4\",\"1234dios\"}\n",
        "Diccionarios\n",
        "\n",
        "Son dequivalentes a los JSON de JS.\n",
        "\n",
        "Sets\n",
        "\n",
        "Son de datos agrupados"
      ]
    },
    {
      "cell_type": "code",
      "metadata": {
        "id": "LPAfIbgsvSgp",
        "outputId": "dfb38043-3568-4db0-bdef-06b3d61a482c",
        "colab": {
          "base_uri": "https://localhost:8080/",
          "height": 241
        }
      },
      "source": [
        "lista_ejemplo = [\"manzana\",1.57,True,[\"rojo\",\"azul\"]]\n",
        "print(lista_ejemplo)\n",
        "print(lista_ejemplo[1])\n",
        "print(lista_ejemplo[3])\n",
        "print(lista_ejemplo[3][1])\n",
        "lista_ejemplo[0]=\"Manzana\"\n",
        "print(lista_ejemplo)\n",
        "\n",
        "valor = lista_ejemplo.pop()\n",
        "print(valor)\n",
        "print(lista_ejemplo)\n",
        "\n",
        "# documentacion del tipo de dato dir() y help()\n",
        "#dir(list)\n",
        "#help(lista_ejemplo)\n",
        "print(\"---------\")\n",
        "#print(help(list))\n",
        "lista_ejemplo.insert(1,\"Huawei\")\n",
        "print(lista_ejemplo)\n",
        "\n",
        "conteo = lista_ejemplo.count(\"Huawei\")\n",
        "print(conteo)\n",
        "\n",
        "colores = [\"rosa\", \"fiusca\",\"negro\"]\n",
        "lista_ejemplo.append(colores)\n",
        "\n",
        "print(lista_ejemplo)\n",
        "\n",
        "#con extends fusionan dos listas\n",
        "\n",
        "lista_ejemplo.extend(colores)\n",
        "print(lista_ejemplo)\n"
      ],
      "execution_count": 7,
      "outputs": [
        {
          "output_type": "stream",
          "text": [
            "['manzana', 1.57, True, ['rojo', 'azul']]\n",
            "1.57\n",
            "['rojo', 'azul']\n",
            "azul\n",
            "['Manzana', 1.57, True, ['rojo', 'azul']]\n",
            "['rojo', 'azul']\n",
            "['Manzana', 1.57, True]\n",
            "---------\n",
            "['Manzana', 'Huawei', 1.57, True]\n",
            "1\n",
            "['Manzana', 'Huawei', 1.57, True, ['rosa', 'fiusca', 'negro']]\n",
            "['Manzana', 'Huawei', 1.57, True, ['rosa', 'fiusca', 'negro'], 'rosa', 'fiusca', 'negro']\n"
          ],
          "name": "stdout"
        }
      ]
    }
  ]
}