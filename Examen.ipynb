{
  "nbformat": 4,
  "nbformat_minor": 0,
  "metadata": {
    "colab": {
      "name": "Examen.ipynb",
      "provenance": [],
      "authorship_tag": "ABX9TyMXBknFZEXhEiqfYns5hb3F",
      "include_colab_link": true
    },
    "kernelspec": {
      "name": "python3",
      "display_name": "Python 3"
    }
  },
  "cells": [
    {
      "cell_type": "markdown",
      "metadata": {
        "id": "view-in-github",
        "colab_type": "text"
      },
      "source": [
        "<a href=\"https://colab.research.google.com/github/alulec/edd_1358_2021/blob/master/Examen.ipynb\" target=\"_parent\"><img src=\"https://colab.research.google.com/assets/colab-badge.svg\" alt=\"Open In Colab\"/></a>"
      ]
    },
    {
      "cell_type": "code",
      "metadata": {
        "id": "AHZkChHUnzh4"
      },
      "source": [
        "class Nodo:\r\n",
        "    def __init__(self, value, siguiente=None):\r\n",
        "        self.data = value\r\n",
        "        self.next = siguiente"
      ],
      "execution_count": null,
      "outputs": []
    },
    {
      "cell_type": "code",
      "metadata": {
        "colab": {
          "base_uri": "https://localhost:8080/"
        },
        "id": "SFeGDaDwsZzP",
        "outputId": "84ae1653-392a-4c4e-9bfa-909c6a4349a9"
      },
      "source": [
        "nod = Nodo(26, Nodo(15, Nodo(80, Nodo(10))))\r\n",
        "\r\n",
        "nod.next.next = Nodo(28, nod.next.next)\r\n",
        "nod.next = nod.next.next\r\n",
        "\r\n",
        "print(nod.data, nod.next.data, nod.next.next.data, nod.next.next.next.data)"
      ],
      "execution_count": null,
      "outputs": [
        {
          "output_type": "stream",
          "text": [
            "26 28 80 10\n"
          ],
          "name": "stdout"
        }
      ]
    },
    {
      "cell_type": "code",
      "metadata": {
        "colab": {
          "base_uri": "https://localhost:8080/"
        },
        "id": "tDD_QGRA3W5z",
        "outputId": "07e3b88b-011e-4c75-9958-c0288a2a46a6"
      },
      "source": [
        "\"\"\"\r\n",
        "Crear un programa que pida por medio del teclado 2 números y despliegue un \r\n",
        "mensaje diciendo cual es mayor o si los dos son iguales. (Usar la estructura de control ‘if - else)\r\n",
        "(Generar el código Python subir impresión de pantalla).\r\n",
        "\"\"\"\r\n",
        "\r\n",
        "n1 = float(input(\"Ingrese el primer numero: \"))\r\n",
        "n2 = float(input(\"Ingrese el segundo numero: \"))\r\n",
        "\r\n",
        "if n1 == n2:\r\n",
        "    print(f\"{n1} y {n2} son iguales\")\r\n",
        "else:\r\n",
        "    if n1 < n2:\r\n",
        "        print(f\"{n1} es menor que {n2}\")\r\n",
        "    else:\r\n",
        "        print(f\"{n2} es menor que {n1}\")"
      ],
      "execution_count": 11,
      "outputs": [
        {
          "output_type": "stream",
          "text": [
            "Ingrese el primer numero: 8\n",
            "Ingrese el segundo numero: 6\n",
            "6.0 es menor que 8.0\n"
          ],
          "name": "stdout"
        }
      ]
    },
    {
      "cell_type": "code",
      "metadata": {
        "id": "ZnURSSr054Uk"
      },
      "source": [
        "\"\"\"\r\n",
        "Crear una instancia del Objeto Stack (LIFO), insertar los siguientes valores, \r\n",
        "“42,23,15,44”, de acuerdo con estos valores, obtener el tamaño de la pila e \r\n",
        "imprimir el valor en consola y verificar el estado de la \r\n",
        "pila (Generar el código Python subir impresión de pantalla).\r\n",
        "\"\"\"\r\n",
        "\r\n",
        "class Stack:\r\n",
        "    def __init__(self):\r\n",
        "        self.__data = []\r\n",
        "        self.__lenght = 0\r\n",
        "\r\n",
        "    def push(self, value):\r\n",
        "        self.__data.append(value)\r\n",
        "        self.__lenght +=1\r\n",
        "\r\n",
        "    def pop(self):\r\n",
        "        if self.__lenght == 0:\r\n",
        "            pass\r\n",
        "        else:\r\n",
        "            self.__lenght -=1\r\n",
        "            return self.__data.pop()\r\n",
        "\r\n",
        "    def is_empty(self):\r\n",
        "        return self.__lenght != 0 \r\n",
        "        \r\n",
        "    def lenght(self):\r\n",
        "            return self.__lenght\r\n",
        "\r\n",
        "    def peek(self):\r\n",
        "        a = self.__data[-1]\r\n",
        "        return a\r\n",
        "\r\n",
        "    def to_string(self):\r\n",
        "        if self.__lenght == 0:\r\n",
        "            pass\r\n",
        "        else:\r\n",
        "            a = self.__data\r\n",
        "            print(\"_______\")\r\n",
        "            for x in range(self.__lenght ):\r\n",
        "                print(\"|\", a.pop(), \"|\")\r\n",
        "            print(\"_______\")\r\n",
        "            "
      ],
      "execution_count": 23,
      "outputs": []
    },
    {
      "cell_type": "code",
      "metadata": {
        "colab": {
          "base_uri": "https://localhost:8080/"
        },
        "id": "f8I2gJdT7_ef",
        "outputId": "0618d7a9-8395-4af2-8537-c6749c7f62d4"
      },
      "source": [
        "pila = Stack()\r\n",
        "pila.push(42)\r\n",
        "pila.push(23)\r\n",
        "pila.push(15)\r\n",
        "pila.push(44)\r\n",
        "\r\n",
        "print(\"El tamaño de la pila es de \", pila.lenght(), \" elementos\")\r\n",
        "pila.to_string()"
      ],
      "execution_count": 24,
      "outputs": [
        {
          "output_type": "stream",
          "text": [
            "El tamaño de la pila es de  4  elementos\n",
            "_______\n",
            "| 44 |\n",
            "| 15 |\n",
            "| 23 |\n",
            "| 42 |\n",
            "_______\n"
          ],
          "name": "stdout"
        }
      ]
    }
  ]
}