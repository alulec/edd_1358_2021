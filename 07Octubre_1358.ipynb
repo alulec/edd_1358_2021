{
  "nbformat": 4,
  "nbformat_minor": 0,
  "metadata": {
    "colab": {
      "name": "07Octubre_1358.ipynb",
      "provenance": [],
      "authorship_tag": "ABX9TyPfAxo5O3gYXYa158nMN9x8",
      "include_colab_link": true
    },
    "kernelspec": {
      "name": "python3",
      "display_name": "Python 3"
    }
  },
  "cells": [
    {
      "cell_type": "markdown",
      "metadata": {
        "id": "view-in-github",
        "colab_type": "text"
      },
      "source": [
        "<a href=\"https://colab.research.google.com/github/alulec/edd_1358_2021/blob/master/07Octubre_1358.ipynb\" target=\"_parent\"><img src=\"https://colab.research.google.com/assets/colab-badge.svg\" alt=\"Open In Colab\"/></a>"
      ]
    },
    {
      "cell_type": "code",
      "metadata": {
        "id": "vdajE0Zdobqp",
        "outputId": "648d6675-afcb-4a83-fd38-be9988e62e42",
        "colab": {
          "base_uri": "https://localhost:8080/"
        }
      },
      "source": [
        "autos = [\"Mazda\",\"honda\",\"Akura\",\"Ford\",\"VW\"]\n",
        "telefonos = [\"iPhone\",\"Huawei Mate 30\", \"Xiaomi S10\",\"Alcatel t1000\"]\n",
        "sistemas_operativos = [ \"Windows\", \"Linux\" , \"Android\" , \"iOS\" ,\"MacOs\" ]\n",
        "procesadores = [[\"Intel\", 3.1, True],[\"AMD\", 2.7, False],[\"Motorola\", 1.1, False]]\n",
        "\n",
        "lista_nd = [autos,telefonos,sistemas_operativos, procesadores]\n",
        "print(lista_nd)\n",
        "print(lista_nd[2][3])\n",
        "print(lista_nd[1][1][3:6])\n",
        "print(lista_nd[3][1][1])\n",
        "print(lista_nd[3][2][0][2:6])\n",
        "print(lista_nd[3][0][0][-2:-5:-1])\n",
        "\n",
        "\n",
        "#concatenar listas\n",
        "colores = [\"rojo\", \"verde\", \"azul\", \"negro\"]\n",
        "flores = [\"Margarita\", \"rosa\"]\n",
        "\n",
        "nueva = colores + flores\n",
        "print(nueva)\n",
        "print(colores)\n",
        "print(flores)\n",
        "\n",
        "#con extends\n",
        "colores.extend(flores)\n",
        "print(colores)\n",
        "\n",
        "# unpacking de listas\n",
        "print(\"unpacking\")\n",
        "datos_personales = [\"Jose\", \"Peres\", \"Juarez\", 22, 1.67, True]\n",
        "nombre = datos_personales[0]\n",
        "print(nombre)\n",
        "nombre, peterno, materno, edad, est, fuma = datos_personales\n",
        "print(f\"Nombre:{nombre}\\n Edad:{edad}\")\n",
        "print(datos_personales)"
      ],
      "execution_count": 15,
      "outputs": [
        {
          "output_type": "stream",
          "text": [
            "[['Mazda', 'honda', 'Akura', 'Ford', 'VW'], ['iPhone', 'Huawei Mate 30', 'Xiaomi S10', 'Alcatel t1000'], ['Windows', 'Linux', 'Android', 'iOS', 'MacOs'], [['Intel', 3.1, True], ['AMD', 2.7, False], ['Motorola', 1.1, False]]]\n",
            "iOS\n",
            "wei\n",
            "2.7\n",
            "toro\n",
            "etn\n",
            "['rojo', 'verde', 'azul', 'negro', 'Margarita', 'rosa']\n",
            "['rojo', 'verde', 'azul', 'negro']\n",
            "['Margarita', 'rosa']\n",
            "['rojo', 'verde', 'azul', 'negro', 'Margarita', 'rosa']\n",
            "unpacking\n",
            "Jose\n",
            "Nombre:Jose\n",
            " Edad:22\n",
            "['Jose', 'Peres', 'Juarez', 22, 1.67, True]\n"
          ],
          "name": "stdout"
        }
      ]
    },
    {
      "cell_type": "code",
      "metadata": {
        "id": "-MCTN8youK0n",
        "outputId": "543fcd8f-4fcc-4df0-98be-6be2a18c72ff",
        "colab": {
          "base_uri": "https://localhost:8080/"
        }
      },
      "source": [
        "# Tuplas\n",
        "bd = ('127.0.0.1', 'root', 'toor', '1345')\n",
        "# bd[1] = 'user1'\n",
        "print(f\"usuario de la base de datos es: { bd[1]} \")\n",
        "print(bd[1:3])"
      ],
      "execution_count": 22,
      "outputs": [
        {
          "output_type": "stream",
          "text": [
            "usuario de la base de datos es: root \n",
            "('root', 'toor')\n"
          ],
          "name": "stdout"
        }
      ]
    },
    {
      "cell_type": "code",
      "metadata": {
        "id": "8RUkl2Xaweis"
      },
      "source": [
        "# Diccionarios\n",
        "alumno = {'nombre':'Juan', 'edad':22, 'carrera':'ICO'}\n",
        "print(alumno)\n",
        "print(alumno['edad'])\n",
        "alumno = {\n",
        "    'nombre':'Juan',\n",
        "    'edad' : 22,\n",
        "    'carrera':'ICO',\n",
        "    'direccion':{'calle':'Bosques de africa',\n",
        "                 'numero':33,\n",
        "                 'delegacion':'Nezahuacoyotl',\n",
        "                 'estado': 15,\n",
        "                 'nombre_estado':'Estado de Mexico'\n",
        "                 }\n",
        "  }\n",
        "print(alumno['direccion'])\n",
        "print(alumno['direccion']['delegacion'])\n",
        "print(alumno['direccion']['delegacion'][3:7])\n",
        "print(alumno['direccion']['delegacion'][3:7].upper())\n",
        "alumno['edad'] = 35\n",
        "print(alumno)\n",
        "alumno['promedio'] = 9.9\n",
        "print(alumno)\n",
        "alumno['direccion']['cp'] = 17542\n",
        "print(alumno)\n",
        "alumno['materia'] = {'nombre':'CyP', 'Calificacion':10}\n",
        "print(alumno)\n",
        "\n",
        "cliente = {'id': 1, 'nombre': 'Carlos Slim'}\n",
        "print(cliente)\n"
      ],
      "execution_count": null,
      "outputs": []
    },
    {
      "cell_type": "code",
      "metadata": {
        "id": "niaQRXoIsFOi"
      },
      "source": [
        "\n",
        "help(dict)"
      ],
      "execution_count": null,
      "outputs": []
    }
  ]
}