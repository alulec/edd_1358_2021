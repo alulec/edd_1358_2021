{
  "nbformat": 4,
  "nbformat_minor": 0,
  "metadata": {
    "colab": {
      "name": "ListaDoblementeLigada.ipynb",
      "provenance": [],
      "collapsed_sections": [],
      "authorship_tag": "ABX9TyMdHSidjOYDNOU7LwyWZY88",
      "include_colab_link": true
    },
    "kernelspec": {
      "name": "python3",
      "display_name": "Python 3"
    }
  },
  "cells": [
    {
      "cell_type": "markdown",
      "metadata": {
        "id": "view-in-github",
        "colab_type": "text"
      },
      "source": [
        "<a href=\"https://colab.research.google.com/github/alulec/edd_1358_2021/blob/master/ListaDoblementeLigada.ipynb\" target=\"_parent\"><img src=\"https://colab.research.google.com/assets/colab-badge.svg\" alt=\"Open In Colab\"/></a>"
      ]
    },
    {
      "cell_type": "code",
      "metadata": {
        "id": "m15WQUUMiNZR"
      },
      "source": [
        "class NodoDoble:\n",
        "    def __init__(self, value, prev=None, next=None):\n",
        "        self.dato = value\n",
        "        self.prev = prev\n",
        "        self.next = next\n",
        "\n",
        "class DoubleLinkedList:\n",
        "    def __init__(self):\n",
        "        self.__head = NodoDoble(None)\n",
        "        self.__tail = NodoDoble(None)\n",
        "        self.__size = 0\n",
        "\n",
        "\n",
        "    def get_size(self):\n",
        "        return self.__size\n",
        "\n",
        "    def is_empty(self):\n",
        "        return self.__size == 0\n",
        "\n",
        "    def append(self, value):\n",
        "        if self.__size == 0:\n",
        "            nuevo = NodoDoble(value, self.__head, self.__tail)\n",
        "            self.__head.next = nuevo\n",
        "            self.__tail.prev= nuevo\n",
        "        else:\n",
        "            nuevo = NodoDoble(value, self.__tail.prev, self.__tail)\n",
        "            self.__tail.prev.next = nuevo\n",
        "            self.__tail.prev = nuevo\n",
        "        self.__size += 1\n",
        "\n",
        "    def remove_from_head(self, value):\n",
        "        curr_node = self.__head.next\n",
        "        if self.is_empty():\n",
        "            pass\n",
        "        else:\n",
        "            while curr_node.dato != None:\n",
        "                if curr_node.dato == value:\n",
        "                    curr_node.prev.next = curr_node.next\n",
        "                    curr_node.next.prev = curr_node.prev\n",
        "                    curr_node = NodoDoble(None)\n",
        "                else:\n",
        "                    curr_node = curr_node.next\n",
        "        self.__size -= 1\n",
        "\n",
        "    def remove_from_tail(self, value):\n",
        "        curr_node = self.__tail.prev\n",
        "        if self.is_empty():\n",
        "            pass\n",
        "        else:\n",
        "            while curr_node.dato != None:\n",
        "                if curr_node.dato == value:\n",
        "                    curr_node.prev.next = curr_node.next\n",
        "                    curr_node.next.prev = curr_node.prev\n",
        "                    curr_node = NodoDoble(None)\n",
        "                else:\n",
        "                    curr_node = curr_node.prev\n",
        "        self.__size -= 1\n",
        "\n",
        "    def find_from_head(self, value):\n",
        "        if self.__size == 0:\n",
        "            pass\n",
        "        else:\n",
        "            curr_node = self.__head.next\n",
        "            pos = 1\n",
        "            while curr_node.dato != None:\n",
        "                if curr_node.dato == value:\n",
        "                    print(pos)    \n",
        "                pos += 1\n",
        "                curr_node = curr_node.next\n",
        "\n",
        "    def find_from_tail(self, value):\n",
        "            if self.__size == 0:\n",
        "                pass\n",
        "            else:\n",
        "                curr_node = self.__tail.prev\n",
        "                pos = self.__size\n",
        "                while curr_node.dato != None:\n",
        "                    if curr_node.dato == value:\n",
        "                        print(pos)    \n",
        "                    pos -= 1\n",
        "                    curr_node = curr_node.prev\n",
        "\n",
        "    def transversal(self): # Entiende a curr_node como \"nodo_actual\", solo tiene acceso a los atributos del nodo actual.\n",
        "        curr_node = self.__head.next\n",
        "        for x in range(self.__size):\n",
        "            print(\"<-|\"+ str(curr_node.dato) + \"|->\" , end=\"\")\n",
        "            curr_node = curr_node.next\n",
        "\n",
        "    def reverse_transversal(self): \n",
        "        curr_node = self.__tail.prev\n",
        "        for x in range(self.__size):\n",
        "            print(\"<-|\"+ str(curr_node.dato) + \"|->\" , end=\"\")\n",
        "            curr_node = curr_node.prev"
      ],
      "execution_count": 49,
      "outputs": []
    },
    {
      "cell_type": "code",
      "metadata": {
        "colab": {
          "base_uri": "https://localhost:8080/"
        },
        "id": "JTYtal8b_xDQ",
        "outputId": "a2e1dccf-a7e9-4e60-9531-63347864e760"
      },
      "source": [
        "ldl = DoubleLinkedList()\n",
        "print(ldl.get_size())\n",
        "print(ldl.is_empty())\n",
        "ldl.append(10)\n",
        "ldl.append(20)\n",
        "ldl.append(30)\n",
        "ldl.append(40)\n",
        "ldl.append(50)\n",
        "\"\"\"\n",
        "ldl.remove_from_head(50)\n",
        "ldl.remove_from_head(40)\n",
        "ldl.remove_from_head(30)\n",
        "ldl.remove_from_head(20)\n",
        "ldl.remove_from_head(10)\n",
        "\"\"\"\n",
        "ldl.transversal()\n",
        "ldl.find_from_tail(50)\n",
        "#ldl.remove_from_tail(50)\n",
        "ldl.transversal()\n",
        "ldl.reverse_transversal()"
      ],
      "execution_count": 50,
      "outputs": [
        {
          "output_type": "stream",
          "text": [
            "0\n",
            "True\n",
            "<-|10|-><-|20|-><-|30|-><-|40|-><-|50|->5\n",
            "<-|10|-><-|20|-><-|30|-><-|40|-><-|50|-><-|50|-><-|40|-><-|30|-><-|20|-><-|10|->"
          ],
          "name": "stdout"
        }
      ]
    }
  ]
}