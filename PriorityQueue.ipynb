{
  "nbformat": 4,
  "nbformat_minor": 0,
  "metadata": {
    "colab": {
      "name": "PriorityQueue.ipynb",
      "provenance": [],
      "authorship_tag": "ABX9TyMaUoNvheIwV33UZt2eMFcc",
      "include_colab_link": true
    },
    "kernelspec": {
      "name": "python3",
      "display_name": "Python 3"
    }
  },
  "cells": [
    {
      "cell_type": "markdown",
      "metadata": {
        "id": "view-in-github",
        "colab_type": "text"
      },
      "source": [
        "<a href=\"https://colab.research.google.com/github/alulec/edd_1358_2021/blob/master/PriorityQueue.ipynb\" target=\"_parent\"><img src=\"https://colab.research.google.com/assets/colab-badge.svg\" alt=\"Open In Colab\"/></a>"
      ]
    },
    {
      "cell_type": "code",
      "metadata": {
        "id": "alJpUzs25q04"
      },
      "source": [
        "# ADT Queue (cola)\r\n",
        "\r\n",
        "class Queue:\r\n",
        "    def __init__(self):\r\n",
        "        self.__data = list()\r\n",
        "\r\n",
        "    def is_empty(self):\r\n",
        "        return len(self.__data) == 0\r\n",
        "\r\n",
        "    def length(self):\r\n",
        "        return len(self.__data)\r\n",
        "\r\n",
        "    def enqueue(self, item):\r\n",
        "        self.__data.append(item)\r\n",
        "\r\n",
        "    def dequeue(self):\r\n",
        "        if not self.is_empty():\r\n",
        "            return self.__data.pop(0)\r\n",
        "        else:\r\n",
        "            return None\r\n",
        "    \r\n",
        "    def to_string(self):\r\n",
        "        cadena = \"\"\r\n",
        "        for elem in self.__data:\r\n",
        "            #print(f\"|{elem}\", end=\"\")\r\n",
        "            cadena = cadena + \"| \" + elem \r\n",
        "        cadena = cadena + \"|\"\r\n",
        "        return cadena"
      ],
      "execution_count": 5,
      "outputs": []
    },
    {
      "cell_type": "code",
      "metadata": {
        "id": "QlJaikwA53_S"
      },
      "source": [
        "class PriorityQueue:\r\n",
        "    def __init__(self):\r\n",
        "        self.__data = list()\r\n",
        "        self.__priority = list()\r\n",
        "        self.__size = 0\r\n",
        "\r\n",
        "    def is_empty(self):\r\n",
        "        return self.__size == 0\r\n",
        "\r\n",
        "    def length(self):\r\n",
        "        return self.__size\r\n",
        "\r\n",
        "    def enqueue(self, priority, elem):\r\n",
        "        if self.is_empty() == True:\r\n",
        "            self.__data.append((priority, Queue()))\r\n",
        "            self.__data[0][1].enqueue(elem)\r\n",
        "            self.__priority.append(priority)\r\n",
        "            self.__size += 1\r\n",
        "        else:\r\n",
        "            existe = False\r\n",
        "            for x in self.__priority:\r\n",
        "                if x == priority:\r\n",
        "                    existe = True\r\n",
        "            if existe == True:\r\n",
        "                for x in self.__data:\r\n",
        "                    if x[0] == priority:\r\n",
        "                        x[1].enqueue(elem)\r\n",
        "                self.__size += 1\r\n",
        "            else:\r\n",
        "                self.__data.append((priority, Queue()))\r\n",
        "                self.__data[-1][1].enqueue(elem)\r\n",
        "                self.__priority.append(priority)\r\n",
        "                self.__size += 1\r\n",
        "\r\n",
        "    def dequeue(self):\r\n",
        "        max = 0\r\n",
        "        for x in self.__priority:\r\n",
        "            if x[0] < max:\r\n",
        "                max = x[1]\r\n",
        "        for x in range(max):\r\n",
        "            te\r\n",
        "            while \r\n",
        "\r\n",
        "\r\n",
        "    def to_string(self):\r\n",
        "        for nivel in range(len(self.__priority)):\r\n",
        "            print(f\"Nivel {self.__data[nivel][0]} --> {self.__data[nivel][1].to_string()}\")  \r\n",
        "            \r\n",
        "            \r\n",
        "        \r\n",
        "                "
      ],
      "execution_count": 20,
      "outputs": []
    },
    {
      "cell_type": "code",
      "metadata": {
        "colab": {
          "base_uri": "https://localhost:8080/"
        },
        "id": "krodw10AEBUq",
        "outputId": "3278b3a6-2774-488b-811f-274ea4c1e895"
      },
      "source": [
        "cpa = PriorityQueue()\r\n",
        "cpa.enqueue(4, \"Maestre\")\r\n",
        "cpa.enqueue(2, \"Niños\")\r\n",
        "cpa.enqueue(4, \"Mecanico\")\r\n",
        "cpa.enqueue(3, \"Hombres\")\r\n",
        "cpa.enqueue(4, \"Vigia\")\r\n",
        "cpa.enqueue(5, \"Capitan\")\r\n",
        "cpa.enqueue(4, \"Timones\")\r\n",
        "cpa.enqueue(3, \"Mujeres\")\r\n",
        "cpa.enqueue(2, \"3ra edad\")\r\n",
        "cpa.enqueue(1, \"Niñas\")\r\n",
        "cpa.to_string()"
      ],
      "execution_count": 22,
      "outputs": [
        {
          "output_type": "stream",
          "text": [
            "Nivel 4 --> | Maestre| Mecanico| Vigia| Timones|\n",
            "Nivel 2 --> | Niños| 3ra edad|\n",
            "Nivel 3 --> | Hombres| Mujeres|\n",
            "Nivel 5 --> | Capitan|\n",
            "Nivel 1 --> | Niñas|\n"
          ],
          "name": "stdout"
        }
      ]
    }
  ]
}