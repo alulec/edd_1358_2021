{
  "nbformat": 4,
  "nbformat_minor": 0,
  "metadata": {
    "colab": {
      "name": "28Octubre_1358.ipynb",
      "provenance": [],
      "authorship_tag": "ABX9TyMUUN+I2ubOrnFa5kfCgluj",
      "include_colab_link": true
    },
    "kernelspec": {
      "name": "python3",
      "display_name": "Python 3"
    }
  },
  "cells": [
    {
      "cell_type": "markdown",
      "metadata": {
        "id": "view-in-github",
        "colab_type": "text"
      },
      "source": [
        "<a href=\"https://colab.research.google.com/github/alulec/edd_1358_2021/blob/master/28Octubre_1358.ipynb\" target=\"_parent\"><img src=\"https://colab.research.google.com/assets/colab-badge.svg\" alt=\"Open In Colab\"/></a>"
      ]
    },
    {
      "cell_type": "code",
      "metadata": {
        "id": "vgmr9tbX9ZEv",
        "outputId": "019367d7-9428-4474-82c2-bb7197a3ea63",
        "colab": {
          "base_uri": "https://localhost:8080/"
        }
      },
      "source": [
        "basura =[\"manzana\", \"pera\"]\n",
        "datos = [ x.upper() for x in basura ]\n",
        "print(datos)"
      ],
      "execution_count": 8,
      "outputs": [
        {
          "output_type": "stream",
          "text": [
            "['MANZANA', 'PERA']\n"
          ],
          "name": "stdout"
        }
      ]
    },
    {
      "cell_type": "markdown",
      "metadata": {
        "id": "hrZsf5gAIVRh"
      },
      "source": [
        "[ [0, 0, 0],\n",
        "[0, 0, 0],\n",
        "[0, 0, 0] ]"
      ]
    },
    {
      "cell_type": "code",
      "metadata": {
        "id": "LzLrO1oXIRLZ",
        "outputId": "5231996e-4e58-4204-c33f-b36fe18cc72a",
        "colab": {
          "base_uri": "https://localhost:8080/"
        }
      },
      "source": [
        "# lista de 2 D\n",
        "ren = 4\n",
        "col = 6\n",
        "dos_d = [[0 for x in range(col)] for x in range(ren)]\n",
        "print(dos_d)"
      ],
      "execution_count": 11,
      "outputs": [
        {
          "output_type": "stream",
          "text": [
            "[[0, 0, 0, 0, 0, 0], [0, 0, 0, 0, 0, 0], [0, 0, 0, 0, 0, 0], [0, 0, 0, 0, 0, 0]]\n"
          ],
          "name": "stdout"
        }
      ]
    }
  ]
}