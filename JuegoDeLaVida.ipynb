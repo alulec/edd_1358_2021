{
  "nbformat": 4,
  "nbformat_minor": 0,
  "metadata": {
    "colab": {
      "name": "JuegoDeLaVida.ipynb",
      "provenance": [],
      "authorship_tag": "ABX9TyNtKjzcBIIlSXbBdLq0sax+",
      "include_colab_link": true
    },
    "kernelspec": {
      "name": "python3",
      "display_name": "Python 3"
    }
  },
  "cells": [
    {
      "cell_type": "markdown",
      "metadata": {
        "id": "view-in-github",
        "colab_type": "text"
      },
      "source": [
        "<a href=\"https://colab.research.google.com/github/alulec/edd_1358_2021/blob/master/JuegoDeLaVida.ipynb\" target=\"_parent\"><img src=\"https://colab.research.google.com/assets/colab-badge.svg\" alt=\"Open In Colab\"/></a>"
      ]
    },
    {
      "cell_type": "code",
      "metadata": {
        "id": "7pqGT7pE_gyb",
        "colab": {
          "base_uri": "https://localhost:8080/"
        },
        "outputId": "a500a2dd-5232-438a-cc88-cb5423c87873"
      },
      "source": [
        "class Array2D:\n",
        "    def __init__(self, cols, rows, value = 0):\n",
        "        self.__rows = rows\n",
        "        self.__cols = cols\n",
        "        self.__value = value\n",
        "        self.__matriz = [[value for x in range(self.__rows)] for x in range(self.__cols)]\n",
        "\n",
        "    @property\n",
        "    def rows(self):\n",
        "        return self.__rows\n",
        "\n",
        "    @property\n",
        "    def cols(self):\n",
        "        return self.__cols\n",
        "\n",
        "    def get_item(self, col, row):\n",
        "        item = None\n",
        "        if (col >= 0 and col < self.__cols):\n",
        "            if (row >= 0 and row < self.__rows):\n",
        "                item = self.__matriz[col][row]\n",
        "            else:\n",
        "                item = \"Indice de renglon fuera de rango.\"\n",
        "        else:\n",
        "            item = \"Indice de columna fuera de rango.\"\n",
        "        return item\n",
        "\n",
        "    def set_item(self, col, row, item):\n",
        "        if (col >= 0 and col < self.__cols):\n",
        "            if (row >= 0 and row < self.__rows):\n",
        "                self.__matriz[col][row] = item\n",
        "            else:\n",
        "                return \"Indice de renglon fuera de rango.\"\n",
        "        else:\n",
        "            return \"Indice de columna fuera de rango.\"\n",
        "\n",
        "    def clear(self,value):\n",
        "        self.__matriz = [[value for x in range(self.__rows)] for x in range(self.__cols)]\n",
        "\n",
        "    def to_string(self):\n",
        "        for y in range(self.__rows ):\n",
        "            for x in range(self.__cols):\n",
        "                print(self.__matriz[x][y], end=\" \")\n",
        "            print()\n",
        "            print()\n",
        "\"\"\"\n",
        "ejemplo = Array2D(5,5)\n",
        "ejemplo.set_item(0,0,5)\n",
        "ejemplo.set_item(1,1,4)\n",
        "ejemplo.set_item(2,2,3)\n",
        "ejemplo.set_item(3,3,2)\n",
        "ejemplo.set_item(4,4,1)\n",
        "ejemplo.set_item(2,1,\"b\")\n",
        "ejemplo.set_item(4,2,\"H\")\n",
        "ejemplo.set_item(0, 1, \"N\")\n",
        "ejemplo.set_item(4, 3, \"+\")\n",
        "ejemplo.set_item(2, 4, \"$\")\n",
        "ejemplo.to_string()\n",
        "\"\"\"\n"
      ],
      "execution_count": 38,
      "outputs": [
        {
          "output_type": "stream",
          "text": [
            "5 0 0 0 0 \n",
            "\n",
            "N 4 b 0 0 \n",
            "\n",
            "0 0 3 0 H \n",
            "\n",
            "0 0 0 2 + \n",
            "\n",
            "0 0 $ 0 1 \n",
            "\n"
          ],
          "name": "stdout"
        }
      ]
    },
    {
      "cell_type": "code",
      "metadata": {
        "id": "6Ek3aUbkeacT"
      },
      "source": [
        "class Parametros: # encapsula los datos del juego y contiene los metodos necesarios\n",
        "    def __init__(self, cols, rows, noGen, pob): \n",
        "        self.__matriz = Array2D(cols, rows, \"░░\")\n",
        "        self.__no_generaciones = noGen\n",
        "        self.__poblacion = pob\n",
        "\n",
        "    @property #atributo y getter rejilla\n",
        "    def matriz(self):\n",
        "        return self.__matriz\n",
        "\n",
        "    @matriz.setter #seter rejilla\n",
        "    def matriz(self, matriz):\n",
        "        self.__matriz = matriz\n",
        "\n",
        "    @property\n",
        "    def no_generaciones(self):\n",
        "        return self.__no_generaciones\n",
        "    \n",
        "    @property # atributo y getter que contiene a la poblacion actual\n",
        "    def poblacion(self):\n",
        "        return self.__poblacion\n",
        "\n",
        "    @poblacion.setter # setter de la poblacion actual\n",
        "    def poblacion(self, pob):\n",
        "        self.__poblacion = pob\n",
        "\n",
        "    def estadoGeneracion(self): # carga la poblacion actual en la rejilla\n",
        "        for x in self.__poblacion:\n",
        "            self.__matriz.set_item(x[0], x[1], \"▓▓\")\n",
        "\n",
        "    def vecinos(self, x, y): # devuelve el no. de vecinos vivos y muertos\n",
        "        x0 = x - 1           # x0, x2, y0, y2 son los componentes de los vecinos\n",
        "        x2 = x + 1\n",
        "        y0 = y - 1\n",
        "        y2 = y + 1\n",
        "        vec = [[x0,y0],[x,y0],[x2,y0],[x0,y],[x2,y],[x0,y2],[x,y2],[x2,y2]]\n",
        "        muertos = 0\n",
        "        vivos = 0\n",
        "        for v in vec:\n",
        "            compañero = self.__matriz.get_item(v[0], v[1])\n",
        "            if compañero == \"▓▓\":\n",
        "                vivos += 1\n",
        "            else:\n",
        "                muertos += 1\n",
        "        return {'muertos': muertos, 'vivos': vivos}\n",
        "\n",
        "    def to_string(self):\n",
        "        return self.__matriz.to_string()\n"
      ],
      "execution_count": 54,
      "outputs": []
    },
    {
      "cell_type": "code",
      "metadata": {
        "id": "5Y2Cib2_YZ0c",
        "colab": {
          "base_uri": "https://localhost:8080/"
        },
        "outputId": "ae30b594-b436-46ae-bad0-85e207b0e82d"
      },
      "source": [
        "ancho = int(input(\"No. Columnas: \"))\n",
        "alto = int(input(\"No. Renglones: \"))\n",
        "gen = int(input(\"No. generaciones: \"))\n",
        "print(\"La poblacion se tiene que meter de la siguiente manera: \" + \n",
        "      \"(x,y) (x,y) (x,y) ... (x,y)\")\n",
        "tem = input(\"Ingrese la poblacion : \")\n",
        "tem = tem.split(\" \")\n",
        "pobInic = []\n",
        "for item in tem:\n",
        "    a = (int(item[1:2:]), int(item[3:4:]))\n",
        "    pobInic.append(a)\n",
        "#print(\"Datos cargados: \", ancho, alto, gen, pobInic)"
      ],
      "execution_count": 55,
      "outputs": [
        {
          "output_type": "stream",
          "text": [
            "No. Columnas: 6\n",
            "No. Renglones: 6\n",
            "No. generaciones: 6\n",
            "La poblacion se tiene que meter de la siguiente manera: (x,y) (x,y) (x,y) ... (x,y)\n",
            "Ingrese la poblacion : (1,2) (2,1) (2,2) (2,3)\n"
          ],
          "name": "stdout"
        }
      ]
    },
    {
      "cell_type": "code",
      "metadata": {
        "colab": {
          "base_uri": "https://localhost:8080/"
        },
        "id": "pgItVNEs1wDU",
        "outputId": "80005728-3588-426f-9282-d3664db2a4a4"
      },
      "source": [
        " juego = Parametros(ancho, alto, gen, pobInic)\n",
        "control = 0\n",
        "while control <= juego.no_generaciones:\n",
        "    control += 1\n",
        "    newPob = []\n",
        "    juego.estadoGeneracion()\n",
        "    print(juego.to_string())\n",
        "    for y in range(juego.matriz.rows):\n",
        "            for x in range(juego.matriz.cols):\n",
        "                estado = juego.vecinos(x,y)\n",
        "                if juego.matriz.get_item(x,y) == \"▓▓\":\n",
        "                    if (estado['vivos'] == 2) or (estado['vivos'] == 3):\n",
        "                        newPob.append((x,y))            \n",
        "                else:\n",
        "                    if estado['vivos'] == 3:\n",
        "                        newPob.append((x,y))\n",
        "    juego.poblacion = newPob\n",
        "    juego.matriz.clear(\"░░\")\n"
      ],
      "execution_count": 57,
      "outputs": [
        {
          "output_type": "stream",
          "text": [
            "░░ ░░ ░░ ░░ ░░ ░░ \n",
            "\n",
            "░░ ░░ ▓▓ ░░ ░░ ░░ \n",
            "\n",
            "░░ ▓▓ ▓▓ ░░ ░░ ░░ \n",
            "\n",
            "░░ ░░ ▓▓ ░░ ░░ ░░ \n",
            "\n",
            "░░ ░░ ░░ ░░ ░░ ░░ \n",
            "\n",
            "░░ ░░ ░░ ░░ ░░ ░░ \n",
            "\n",
            "None\n",
            "░░ ░░ ░░ ░░ ░░ ░░ \n",
            "\n",
            "░░ ▓▓ ▓▓ ░░ ░░ ░░ \n",
            "\n",
            "░░ ▓▓ ▓▓ ▓▓ ░░ ░░ \n",
            "\n",
            "░░ ▓▓ ▓▓ ░░ ░░ ░░ \n",
            "\n",
            "░░ ░░ ░░ ░░ ░░ ░░ \n",
            "\n",
            "░░ ░░ ░░ ░░ ░░ ░░ \n",
            "\n",
            "None\n",
            "░░ ░░ ░░ ░░ ░░ ░░ \n",
            "\n",
            "░░ ▓▓ ░░ ▓▓ ░░ ░░ \n",
            "\n",
            "▓▓ ░░ ░░ ▓▓ ░░ ░░ \n",
            "\n",
            "░░ ▓▓ ░░ ▓▓ ░░ ░░ \n",
            "\n",
            "░░ ░░ ░░ ░░ ░░ ░░ \n",
            "\n",
            "░░ ░░ ░░ ░░ ░░ ░░ \n",
            "\n",
            "None\n",
            "░░ ░░ ░░ ░░ ░░ ░░ \n",
            "\n",
            "░░ ░░ ▓▓ ░░ ░░ ░░ \n",
            "\n",
            "▓▓ ▓▓ ░░ ▓▓ ▓▓ ░░ \n",
            "\n",
            "░░ ░░ ▓▓ ░░ ░░ ░░ \n",
            "\n",
            "░░ ░░ ░░ ░░ ░░ ░░ \n",
            "\n",
            "░░ ░░ ░░ ░░ ░░ ░░ \n",
            "\n",
            "None\n",
            "░░ ░░ ░░ ░░ ░░ ░░ \n",
            "\n",
            "░░ ▓▓ ▓▓ ▓▓ ░░ ░░ \n",
            "\n",
            "░░ ▓▓ ░░ ▓▓ ░░ ░░ \n",
            "\n",
            "░░ ▓▓ ▓▓ ▓▓ ░░ ░░ \n",
            "\n",
            "░░ ░░ ░░ ░░ ░░ ░░ \n",
            "\n",
            "░░ ░░ ░░ ░░ ░░ ░░ \n",
            "\n",
            "None\n",
            "░░ ░░ ▓▓ ░░ ░░ ░░ \n",
            "\n",
            "░░ ▓▓ ░░ ▓▓ ░░ ░░ \n",
            "\n",
            "▓▓ ░░ ░░ ░░ ▓▓ ░░ \n",
            "\n",
            "░░ ▓▓ ░░ ▓▓ ░░ ░░ \n",
            "\n",
            "░░ ░░ ▓▓ ░░ ░░ ░░ \n",
            "\n",
            "░░ ░░ ░░ ░░ ░░ ░░ \n",
            "\n",
            "None\n",
            "░░ ░░ ▓▓ ░░ ░░ ░░ \n",
            "\n",
            "░░ ▓▓ ▓▓ ▓▓ ░░ ░░ \n",
            "\n",
            "▓▓ ▓▓ ░░ ▓▓ ▓▓ ░░ \n",
            "\n",
            "░░ ▓▓ ▓▓ ▓▓ ░░ ░░ \n",
            "\n",
            "░░ ░░ ▓▓ ░░ ░░ ░░ \n",
            "\n",
            "░░ ░░ ░░ ░░ ░░ ░░ \n",
            "\n",
            "None\n"
          ],
          "name": "stdout"
        }
      ]
    },
    {
      "cell_type": "code",
      "metadata": {
        "id": "U46a3SrKBE9p"
      },
      "source": [
        ""
      ],
      "execution_count": null,
      "outputs": []
    }
  ]
}