{
  "nbformat": 4,
  "nbformat_minor": 0,
  "metadata": {
    "colab": {
      "name": "14Octubre_1358.ipynb",
      "provenance": [],
      "authorship_tag": "ABX9TyNrW0gSfr+B3gtYPVq6FrxP",
      "include_colab_link": true
    },
    "kernelspec": {
      "name": "python3",
      "display_name": "Python 3"
    }
  },
  "cells": [
    {
      "cell_type": "markdown",
      "metadata": {
        "id": "view-in-github",
        "colab_type": "text"
      },
      "source": [
        "<a href=\"https://colab.research.google.com/github/alulec/edd_1358_2021/blob/master/14Octubre_1358.ipynb\" target=\"_parent\"><img src=\"https://colab.research.google.com/assets/colab-badge.svg\" alt=\"Open In Colab\"/></a>"
      ]
    },
    {
      "cell_type": "code",
      "metadata": {
        "id": "X87_LlgjpSvz",
        "outputId": "24114d85-6822-4aec-fbb3-b3f2df245d9a",
        "colab": {
          "base_uri": "https://localhost:8080/",
          "height": 68
        }
      },
      "source": [
        "    def calcular(a, b, c):\n",
        "        x = a + (b / c)\n",
        "        return x\n",
        "    print(calcular(5, 9, 3))\n",
        "    print(calcular(a=5, c=3, b=9))\n",
        "\n",
        "    def calcular_v2( a=10, b=20, c=5):\n",
        "        x = a + ( b / c )\n",
        "        return x\n",
        "    print(calcular_v2(40, 8))"
      ],
      "execution_count": 7,
      "outputs": [
        {
          "output_type": "stream",
          "text": [
            "8.0\n",
            "8.0\n",
            "41.6\n"
          ],
          "name": "stdout"
        }
      ]
    },
    {
      "cell_type": "markdown",
      "metadata": {
        "id": "vZedH0Buruvc"
      },
      "source": [
        "# Argumentos a funciones por tupla\n",
        " Se envian argumentos en un conjunto de elementos dentro de una tupla"
      ]
    },
    {
      "cell_type": "code",
      "metadata": {
        "id": "Ylji2u3jr8_p",
        "outputId": "2bb3d766-f1af-4056-e5d6-e4b0f7a90a3f",
        "colab": {
          "base_uri": "https://localhost:8080/",
          "height": 34
        }
      },
      "source": [
        "    def calculo(*elem):\n",
        "        x = elem[0] + (elem[1]/elem[3])\n",
        "        return x\n",
        "    print(calculo(5, 9, 3, 4, 8, 8, 8))"
      ],
      "execution_count": 13,
      "outputs": [
        {
          "output_type": "stream",
          "text": [
            "7.25\n"
          ],
          "name": "stdout"
        }
      ]
    },
    {
      "cell_type": "markdown",
      "metadata": {
        "id": "e1-M3iN1synO"
      },
      "source": [
        "# Argumetnos como diccionario**"
      ]
    },
    {
      "cell_type": "code",
      "metadata": {
        "id": "h1aaDIi5s42m",
        "outputId": "205ce1f0-bea1-4e84-eb8c-426c7ca92fbb",
        "colab": {
          "base_uri": "https://localhost:8080/",
          "height": 51
        }
      },
      "source": [
        "    def calculo(**elem):\n",
        "        print(elem)\n",
        "        x = elem[\"a\"] + (elem[\"b\"] / elem[\"c\"])\n",
        "        return x\n",
        "    print(calculo(a=5, b=9 , c=3))"
      ],
      "execution_count": 19,
      "outputs": [
        {
          "output_type": "stream",
          "text": [
            "{'a': 5, 'b': 9, 'c': 3}\n",
            "8.0\n"
          ],
          "name": "stdout"
        }
      ]
    },
    {
      "cell_type": "markdown",
      "metadata": {
        "id": "B3AAkW80rx6E"
      },
      "source": [
        "# Archivos \n",
        "- Abrirlos\n",
        "    - un str con ruta del archivo\n",
        "    - dos caracteres: 1 -> modo de apertura\n",
        "- Leerlos\n",
        "- Modificarlos"
      ]
    },
    {
      "cell_type": "code",
      "metadata": {
        "id": "R1HMzm6Nt18y"
      },
      "source": [
        "    archivo = open('ejemplo.txt', 'wt')\n",
        "    \n",
        "    archivo.write(\"Hola mundo de archivos\")\n",
        "    \n",
        "    archivo.close()\n"
      ],
      "execution_count": 14,
      "outputs": []
    },
    {
      "cell_type": "code",
      "metadata": {
        "id": "BFQksMbo1EbV",
        "outputId": "bf1ed81d-9e5a-46be-f90b-f7d40f435de3",
        "colab": {
          "base_uri": "https://localhost:8080/",
          "height": 34
        }
      },
      "source": [
        "cat ejemplo.txt"
      ],
      "execution_count": 17,
      "outputs": [
        {
          "output_type": "stream",
          "text": [
            "Hola mundo de archivos"
          ],
          "name": "stdout"
        }
      ]
    },
    {
      "cell_type": "code",
      "metadata": {
        "id": "VQwv9o6RvBdF",
        "outputId": "17412ea4-cca8-4328-d340-951f6d8565e5",
        "colab": {
          "base_uri": "https://localhost:8080/",
          "height": 34
        }
      },
      "source": [
        "!(cat ejemplo.txt > otra.txt)"
      ],
      "execution_count": 16,
      "outputs": [
        {
          "output_type": "stream",
          "text": [
            "Hola mundo de archivos\n"
          ],
          "name": "stdout"
        }
      ]
    }
  ]
}