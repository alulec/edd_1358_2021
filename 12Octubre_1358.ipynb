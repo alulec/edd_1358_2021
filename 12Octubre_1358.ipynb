{
  "nbformat": 4,
  "nbformat_minor": 0,
  "metadata": {
    "colab": {
      "name": "12Octubre_1358.ipynb",
      "provenance": [],
      "authorship_tag": "ABX9TyOXU/cm35RE881MPg6IQS/P",
      "include_colab_link": true
    },
    "kernelspec": {
      "name": "python3",
      "display_name": "Python 3"
    }
  },
  "cells": [
    {
      "cell_type": "markdown",
      "metadata": {
        "id": "view-in-github",
        "colab_type": "text"
      },
      "source": [
        "<a href=\"https://colab.research.google.com/github/alulec/edd_1358_2021/blob/master/12Octubre_1358.ipynb\" target=\"_parent\"><img src=\"https://colab.research.google.com/assets/colab-badge.svg\" alt=\"Open In Colab\"/></a>"
      ]
    },
    {
      "cell_type": "code",
      "metadata": {
        "id": "otnNNB--VdNk"
      },
      "source": [
        "# diccionarios (continuacion)\n",
        "cliente_banco = {\n",
        "                \"id\":1,\n",
        "                \"Nombres\": [\"Juan\", \"Antonio\"],\n",
        "                \"Paterno\": \"Garcia\",\n",
        "                \"Materno\": \"Perez\",\n",
        "                \"Telefonos\":{\n",
        "                     \"Casa\": 2535126498,\n",
        "                     \"Celular\": 5526481934,\n",
        "                     \"Trabajo\": 6215497861\n",
        "                 },\n",
        "                 \"Activo\": True,\n",
        "                 \"Balance\": 234567.89,\n",
        "                 \"Tarjetas\": ({\"Tipo\": \"Debito\", \"Saldo\": 12000},\n",
        "                              {\"Tipo\": \"Debito\", \"Saldo\": 3500})\n",
        "                }\n",
        "print(cliente_banco)\n",
        "\n",
        "cliente_banco[\"Balance\"] -= 1000.89\n",
        "print(cliente_banco)\n",
        "\n",
        "cliente_banco[\"Tarjetas\"] = ({\"Tipo\": \"Debito\", \"Saldo\": 12000},\n",
        "                             {\"Tipo\": \"Debito\", \"Saldo\": 3500},\n",
        "                             {\"Tipo\": \"Credito\", \"Nivel\": \"Oro\", \"Saldo\": 50000}\n",
        "                             )\n",
        "print(cliente_banco)\n",
        "cliente_banco[\"Direccion\"] = {\n",
        "                            \"Calle\": \"Rancho Seco\", \"Num.\": 23\n",
        "                            }\n",
        "print(cliente_banco)\n",
        "cliente_banco.pop(\"Tarjetas\")\n",
        "print(cliente_banco)\n"
      ],
      "execution_count": null,
      "outputs": []
    },
    {
      "cell_type": "code",
      "metadata": {
        "id": "kDAVgm4Salb0",
        "outputId": "d88e8e51-2dff-4aea-eb95-6b9966be80ed",
        "colab": {
          "base_uri": "https://localhost:8080/",
          "height": 496
        }
      },
      "source": [
        "llaves = cliente_banco.keys()\n",
        "print(llaves)\n",
        "print(type(llaves))\n",
        "for x in llaves:\n",
        "    print(x)\n",
        "valores = cliente_banco.values()\n",
        "for v in valores:\n",
        "    print(v)\n",
        "pares = cliente_banco.items()\n",
        "print(pares)\n",
        "for elem in pares:\n",
        "    print(f\"{elem[0]} = {elem[1]} \")"
      ],
      "execution_count": 16,
      "outputs": [
        {
          "output_type": "stream",
          "text": [
            "dict_keys(['id', 'Nombres', 'Paterno', 'Materno', 'Telefonos', 'Activo', 'Balance', 'Direccion'])\n",
            "<class 'dict_keys'>\n",
            "id\n",
            "Nombres\n",
            "Paterno\n",
            "Materno\n",
            "Telefonos\n",
            "Activo\n",
            "Balance\n",
            "Direccion\n",
            "1\n",
            "['Juan', 'Antonio']\n",
            "Garcia\n",
            "Perez\n",
            "{'Casa': 2535126498, 'Celular': 5526481934, 'Trabajo': 6215497861}\n",
            "True\n",
            "233567.0\n",
            "{'Calle': 'Rancho Seco', 'Num.': 23}\n",
            "dict_items([('id', 1), ('Nombres', ['Juan', 'Antonio']), ('Paterno', 'Garcia'), ('Materno', 'Perez'), ('Telefonos', {'Casa': 2535126498, 'Celular': 5526481934, 'Trabajo': 6215497861}), ('Activo', True), ('Balance', 233567.0), ('Direccion', {'Calle': 'Rancho Seco', 'Num.': 23})])\n",
            "id = 1 \n",
            "Nombres = ['Juan', 'Antonio'] \n",
            "Paterno = Garcia \n",
            "Materno = Perez \n",
            "Telefonos = {'Casa': 2535126498, 'Celular': 5526481934, 'Trabajo': 6215497861} \n",
            "Activo = True \n",
            "Balance = 233567.0 \n",
            "Direccion = {'Calle': 'Rancho Seco', 'Num.': 23} \n"
          ],
          "name": "stdout"
        }
      ]
    },
    {
      "cell_type": "code",
      "metadata": {
        "id": "vGKwli86g5UP",
        "outputId": "ce0f4d24-db30-4a9a-d4d7-da5701f8a929",
        "colab": {
          "base_uri": "https://localhost:8080/",
          "height": 34
        }
      },
      "source": [
        "fruta = {\"Nombre\": \"Manzana\", \"Color\": \"Rojo\", \"Estado\": \"Chihuahua\"}\n",
        "otras_caracteristicas = {\"Vitamina\": \"D\"}\n",
        "fruta.update(otras_caracteristicas)\n",
        "print(fruta)\n"
      ],
      "execution_count": 18,
      "outputs": [
        {
          "output_type": "stream",
          "text": [
            "{'Nombre': 'Manzana', 'Color': 'Rojo', 'Estado': 'Chihuahua', 'Vitamina': 'D'}\n"
          ],
          "name": "stdout"
        }
      ]
    },
    {
      "cell_type": "markdown",
      "metadata": {
        "id": "cUxjzGvBiPJJ"
      },
      "source": [
        "# Funciones\n",
        "- recibe de 0 a n argumentos de entrada\n",
        "- y regresa almenos un valor, aunque ese valor sea None.\n",
        "- Tiene un nombre unico en el texto.\n",
        "- se pueden hacer solo dos cosas con \n",
        "funciones:\n",
        "    - definirla\n",
        "    - llamarla\n"
      ]
    },
    {
      "cell_type": "code",
      "metadata": {
        "id": "miQ8NoNpi_QE",
        "outputId": "09947bbb-427e-4f5f-daf4-94170d52faaa",
        "colab": {
          "base_uri": "https://localhost:8080/",
          "height": 51
        }
      },
      "source": [
        "def suma(a,b):\n",
        "    return a + b\n",
        "\n",
        "def saludar():\n",
        "    print(\"Hola, como estas\")\n",
        "    return None\n",
        "x = 10\n",
        "y = 20\n",
        "c = suma(x,y)\n",
        "print(c)\n",
        "saludar()\n"
      ],
      "execution_count": 20,
      "outputs": [
        {
          "output_type": "stream",
          "text": [
            "30\n",
            "Hola, como estas\n"
          ],
          "name": "stdout"
        }
      ]
    },
    {
      "cell_type": "markdown",
      "metadata": {
        "id": "CMcmTXGJkww9"
      },
      "source": [
        "# None y las funciones\n",
        "Aprovechar el uso de none en paso de parametros"
      ]
    },
    {
      "cell_type": "code",
      "metadata": {
        "id": "85ll8xUIlAo5",
        "outputId": "dfb3f496-aabf-4eba-a70e-8182a1dd35ce",
        "colab": {
          "base_uri": "https://localhost:8080/",
          "height": 51
        }
      },
      "source": [
        "def calcular( base, veces):\n",
        "    if base != None:\n",
        "        resultado = base * veces\n",
        "    else:\n",
        "        resultado = \"Desconocido\"\n",
        "    return resultado\n",
        "\n",
        "print(calcular(4,3))\n",
        "print(calcular(None,3))"
      ],
      "execution_count": 23,
      "outputs": [
        {
          "output_type": "stream",
          "text": [
            "12\n",
            "Desconocido\n"
          ],
          "name": "stdout"
        }
      ]
    }
  ]
}