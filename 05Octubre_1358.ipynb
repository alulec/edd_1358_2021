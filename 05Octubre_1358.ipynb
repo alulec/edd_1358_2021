{
  "nbformat": 4,
  "nbformat_minor": 0,
  "metadata": {
    "colab": {
      "name": "05Octubre_1358.ipynb",
      "provenance": [],
      "authorship_tag": "ABX9TyNPJM6TvqWaRUCyC8R4WEK5",
      "include_colab_link": true
    },
    "kernelspec": {
      "name": "python3",
      "display_name": "Python 3"
    }
  },
  "cells": [
    {
      "cell_type": "markdown",
      "metadata": {
        "id": "view-in-github",
        "colab_type": "text"
      },
      "source": [
        "<a href=\"https://colab.research.google.com/github/alulec/edd_1358_2021/blob/master/05Octubre_1358.ipynb\" target=\"_parent\"><img src=\"https://colab.research.google.com/assets/colab-badge.svg\" alt=\"Open In Colab\"/></a>"
      ]
    },
    {
      "cell_type": "code",
      "metadata": {
        "id": "Aud_1kD0XIC8",
        "outputId": "0e74aa29-9b22-4bd4-df76-0c6853c71f36",
        "colab": {
          "base_uri": "https://localhost:8080/",
          "height": 85
        }
      },
      "source": [
        "precio = 12.5\n",
        "cantidad = 2\n",
        "existencia = True\n",
        "\n",
        "# precio de los chetos es $12.5 y quiero 2, hay?: True\n",
        "\n",
        "print(\"precio de los chetos es $\",precio,\"y quiero\",cantidad,\" , hay?:\",existencia)\n",
        "\n",
        "# fromat() de la clase str\n",
        "\n",
        "print(\"precio de los chetos es ${} y quiero {} , hay?: {}\".format(precio,cantidad,existencia))\n",
        "print(\"precio de los chetos es ${2} y quiero {1} , hay?: {0}\".format(precio,cantidad,existencia))\n",
        "\n",
        "#operador f\"\n",
        "print(f\"precio de los chetos es ${precio} y quiero {cantidad} , hay?: {existencia}\")"
      ],
      "execution_count": 3,
      "outputs": [
        {
          "output_type": "stream",
          "text": [
            "precio de los chetos es $ 12.5 y quiero 2  , hay?: True\n",
            "precio de los chetos es $12.5 y quiero 2 , hay?: True\n",
            "precio de los chetos es $True y quiero 2 , hay?: 12.5\n",
            "precio de los chetos es $12.5 y quiero 2 , hay?: True\n"
          ],
          "name": "stdout"
        }
      ]
    },
    {
      "cell_type": "markdown",
      "metadata": {
        "id": "Fv7N7b9pYNyf"
      },
      "source": [
        "# Listas []\n",
        "declaracion []\n",
        "\n",
        "selector []\n",
        "\n",
        "mutable\n",
        "\n",
        "# Tuplas\n",
        "declaracion ()\n",
        "\n",
        "selector []\n",
        "\n",
        "NO mutable\n",
        "\n",
        "#Diccionarios\n",
        "conjuntos de datos en pares de llave:valor\n",
        "\n",
        "equivalentes a JSON.\n",
        "\n",
        "# Conjuntos\n",
        "Grupo de elementos con la teoria de conjuntos operaciones de conjuntos."
      ]
    },
    {
      "cell_type": "code",
      "metadata": {
        "id": "xANCE4MWZZ7K"
      },
      "source": [
        "# Listas\n",
        "materias = [\"CyP\",\"DAA\",\"EDD\",\"IS\",\"POO\"]\n",
        "print(materias)\n",
        "print(materias[2])\n",
        "print(materias[-1])\n",
        "print(materias[ : : -1])\n",
        "\n",
        "fecha = \"05/octubre/2020\"\n",
        "lista_fecha = fecha.split(\"/\") #convierte un string a una lista\n",
        "print(lista_fecha)\n",
        "\n",
        "#crear un string a partir de una lista\n",
        "lista_hora = [\"15\",\"22\",\"45\"]\n",
        "hora = \",\".join(lista_hora)\n",
        "print(hora)\n",
        "\n",
        "print(\"----------------\")\n",
        "print(materias)\n",
        "print(lista_fecha)\n",
        "print(lista_hora)\n",
        "\n",
        "materias[0] = \"Computadoras y Programacion\" #reemplazar elemento\n",
        "print(materias)\n",
        "\n",
        "# agragar\n",
        "materias.append('Calidad')\n",
        "print(materias)\n",
        "\n",
        "#iinsetar un elemento en una posicion especifica\n",
        "materias.insert(2, \"Emprendimiento\")\n",
        "print(materias)\n",
        "\n",
        "\"\"\"pop saca un elemnto y lo elimina de la lista, si no le das argumento a pop()\n",
        "te saca el ultimo\n",
        "\"\"\"\n",
        "materia = materias.pop()\n",
        "print(materia)\n",
        "print(materias)\n",
        "\n",
        "materia = materias.pop(1)\n",
        "print(materia)\n",
        "print(materias)\n",
        "\n",
        "#vaciar una lista\n",
        "\n",
        "materias.clear()\n",
        "print(materias)\n",
        "\n",
        "#slicing [ : : ]\n",
        "print(\"Slicing\")\n",
        "numeros = [0, 1, 2, 3, 4, 5, 6, 7, 8, 9, 10]\n",
        "print(numeros[4: 9: ])\n",
        "\n",
        "#sustituir un segmento con slicing [0, 1, 2, 3, -2, 9, 10], no pudedes combinar tipos de datos\n",
        "numeros[4: 9: ] = [-2]\n",
        "print(numeros)\n",
        "#numeros[4: 9: ] = [\"a\",\"String\"]\n",
        "print(numeros)"
      ],
      "execution_count": null,
      "outputs": []
    },
    {
      "cell_type": "code",
      "metadata": {
        "id": "2LEV1eu7icyz",
        "outputId": "1f80937d-2e6a-4eef-93bc-f0b1d8fdaa9a",
        "colab": {
          "base_uri": "https://localhost:8080/",
          "height": 71
        }
      },
      "source": [
        "autos = [\"Mazda\",\"Honda\",\"Akura\",\"Ford\",\"VW\"]\n",
        "telefonos = [\"iPhone\", \"Huawei Mate 30\",\"Xiaomi S10\", \"Alcatel t1000\"] \n",
        "sistemas_operativos = [\"Windows\",\"Linux\",\"Android\",\"iOS\",\"MacOS\"]\n",
        "lista_2d = [autos,telefonos,sistemas_operativos]\n",
        "print(lista_2d)\n",
        "print(lista_2d[1][1])"
      ],
      "execution_count": 30,
      "outputs": [
        {
          "output_type": "stream",
          "text": [
            "[['Mazda', 'Honda', 'Akura', 'Ford', 'VW'], ['iPhone', 'Huawei Mate 30', 'Xiaomi S10', 'Alcatel t1000'], ['Windows', 'Linux', 'Android', 'iOS', 'MacOS']]\n",
            "Huawei Mate 30\n"
          ],
          "name": "stdout"
        }
      ]
    },
    {
      "cell_type": "code",
      "metadata": {
        "id": "I-VeG06Gcc05"
      },
      "source": [
        "help(list)"
      ],
      "execution_count": null,
      "outputs": []
    }
  ]
}