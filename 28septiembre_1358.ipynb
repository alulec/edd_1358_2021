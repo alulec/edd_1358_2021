{
  "nbformat": 4,
  "nbformat_minor": 0,
  "metadata": {
    "colab": {
      "name": "28septiembre_1358.ipynb",
      "provenance": [],
      "collapsed_sections": [],
      "authorship_tag": "ABX9TyOkkVJlelTDl6qBK5kDMTpt",
      "include_colab_link": true
    },
    "kernelspec": {
      "name": "python3",
      "display_name": "Python 3"
    }
  },
  "cells": [
    {
      "cell_type": "markdown",
      "metadata": {
        "id": "view-in-github",
        "colab_type": "text"
      },
      "source": [
        "<a href=\"https://colab.research.google.com/github/alulec/edd_1358_2021/blob/master/28septiembre_1358.ipynb\" target=\"_parent\"><img src=\"https://colab.research.google.com/assets/colab-badge.svg\" alt=\"Open In Colab\"/></a>"
      ]
    },
    {
      "cell_type": "code",
      "metadata": {
        "id": "rIlrttXUXO7Q",
        "outputId": "978ca7a8-d96f-456f-a055-f6ff42434e70",
        "colab": {
          "base_uri": "https://localhost:8080/",
          "height": 34
        }
      },
      "source": [
        "print(\"Hola colab research\")\n",
        "nombre = \"EdD\"\n"
      ],
      "execution_count": null,
      "outputs": [
        {
          "output_type": "stream",
          "text": [
            "Hola colab research\n"
          ],
          "name": "stdout"
        }
      ]
    },
    {
      "cell_type": "code",
      "metadata": {
        "id": "o_K8r32JXjCN"
      },
      "source": [
        "print(nombre)"
      ],
      "execution_count": null,
      "outputs": []
    },
    {
      "cell_type": "markdown",
      "metadata": {
        "id": "_RYOPTECaSeS"
      },
      "source": [
        "# Hola esto es un texto \n",
        "[Ir a google]{https://www.google.com}\n",
        "\n",
        "\n",
        "*   elem 1\n",
        "* elem 2\n",
        " 1 fresa\n",
        " esto es un texto largo y quiero poner **negritas** y tambien quiero poner _italica_\n",
        "\n"
      ]
    },
    {
      "cell_type": "code",
      "metadata": {
        "id": "rK-KAa55b-Md"
      },
      "source": [
        "class silla():\n",
        "  def __init__(self):\n",
        "    self.material = \"\"\n",
        "    self.color = \"\"\n",
        "  def to_string( self ):\n",
        "    print(\" ---------- \")\n",
        "    print(f\"Material:   {self.material} \")\n",
        "    print(f\"{self.color} -------\")\n"
      ],
      "execution_count": null,
      "outputs": []
    },
    {
      "cell_type": "code",
      "metadata": {
        "id": "Vd_4iFf0d0Og",
        "outputId": "1db3deb4-dbdf-420e-b8db-def87b147b3d",
        "colab": {
          "base_uri": "https://localhost:8080/",
          "height": 68
        }
      },
      "source": [
        "obj = silla()\n",
        "obj.color = \"cafe\"\n",
        "o\n",
        "obj.to_string()"
      ],
      "execution_count": null,
      "outputs": [
        {
          "output_type": "stream",
          "text": [
            " ---------- \n",
            "Material:    \n",
            "cafe -------\n"
          ],
          "name": "stdout"
        }
      ]
    }
  ]
}