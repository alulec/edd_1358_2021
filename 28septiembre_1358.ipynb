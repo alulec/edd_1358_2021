{
  "nbformat": 4,
  "nbformat_minor": 0,
  "metadata": {
    "colab": {
      "name": "28septiembre_1358.ipynb",
      "provenance": [],
      "collapsed_sections": [],
      "authorship_tag": "ABX9TyPtaJ62QpIc/w4dZkoekSrQ",
      "include_colab_link": true
    },
    "kernelspec": {
      "name": "python3",
      "display_name": "Python 3"
    }
  },
  "cells": [
    {
      "cell_type": "markdown",
      "metadata": {
        "id": "view-in-github",
        "colab_type": "text"
      },
      "source": [
        "<a href=\"https://colab.research.google.com/github/alulec/edd_1358_2021/blob/master/28septiembre_1358.ipynb\" target=\"_parent\"><img src=\"https://colab.research.google.com/assets/colab-badge.svg\" alt=\"Open In Colab\"/></a>"
      ]
    },
    {
      "cell_type": "code",
      "metadata": {
        "id": "rIlrttXUXO7Q",
        "outputId": "44f350ff-dbd8-421b-9e0b-78f36515cb34",
        "colab": {
          "base_uri": "https://localhost:8080/",
          "height": 34
        }
      },
      "source": [
        "print(\"Hola colab research\")\n",
        "nombre = \"EdD\"\n",
        "val = 10"
      ],
      "execution_count": 3,
      "outputs": [
        {
          "output_type": "stream",
          "text": [
            "Hola colab research\n"
          ],
          "name": "stdout"
        }
      ]
    },
    {
      "cell_type": "code",
      "metadata": {
        "id": "o_K8r32JXjCN",
        "outputId": "bc35f2ee-0dba-493d-b566-6a37e6f41370",
        "colab": {
          "base_uri": "https://localhost:8080/",
          "height": 51
        }
      },
      "source": [
        "print(nombre)\n",
        "print(val)"
      ],
      "execution_count": 4,
      "outputs": [
        {
          "output_type": "stream",
          "text": [
            "EdD\n",
            "10\n"
          ],
          "name": "stdout"
        }
      ]
    },
    {
      "cell_type": "markdown",
      "metadata": {
        "id": "_RYOPTECaSeS"
      },
      "source": [
        "# Hola esto es un texto \n",
        "##Encabezado nivel 2\n",
        "###Sintaxis Markdown \n",
        "* elem 1\n",
        "* elem 2\n",
        "* elem 3\n",
        "\n",
        "1. fresa\n",
        "2. manzana\n",
        "3. pera\n",
        "4. adsad\n",
        "\n",
        "esto es un texto largo y quiero poner **negritas** y tambien poner _italica_\n",
        "\n",
        "[Ir a google](https://www.google.com.mx)\n",
        "\n"
      ]
    },
    {
      "cell_type": "code",
      "metadata": {
        "id": "rK-KAa55b-Md"
      },
      "source": [
        "class silla():\n",
        "  def __init__(self):\n",
        "    self.material = \"\"\n",
        "    self.color = \"\"\n",
        "  def to_string( self ):\n",
        "    print(\" ---------- \")\n",
        "    print(f\"Material:   {self.material} \")\n",
        "    print(f\"{self.color} -------\")\n"
      ],
      "execution_count": 5,
      "outputs": []
    },
    {
      "cell_type": "code",
      "metadata": {
        "id": "Vd_4iFf0d0Og",
        "outputId": "f094f562-b060-4b06-9f2e-a26c4ab1a980",
        "colab": {
          "base_uri": "https://localhost:8080/",
          "height": 68
        }
      },
      "source": [
        "obj = silla()\n",
        "obj.material = \"Madera\"\n",
        "obj.color = \"Rojo\"\n",
        "obj.to_string()"
      ],
      "execution_count": 7,
      "outputs": [
        {
          "output_type": "stream",
          "text": [
            " ---------- \n",
            "Material:   Madera \n",
            "Rojo -------\n"
          ],
          "name": "stdout"
        }
      ]
    }
  ]
}