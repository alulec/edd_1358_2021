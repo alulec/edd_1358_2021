{
  "nbformat": 4,
  "nbformat_minor": 0,
  "metadata": {
    "colab": {
      "name": "23Noviembre_1358.ipynb",
      "provenance": [],
      "collapsed_sections": [],
      "authorship_tag": "ABX9TyP3sZqiFHUfSsdzW0OlvVfp",
      "include_colab_link": true
    },
    "kernelspec": {
      "name": "python3",
      "display_name": "Python 3"
    }
  },
  "cells": [
    {
      "cell_type": "markdown",
      "metadata": {
        "id": "view-in-github",
        "colab_type": "text"
      },
      "source": [
        "<a href=\"https://colab.research.google.com/github/alulec/edd_1358_2021/blob/master/23Noviembre_1358.ipynb\" target=\"_parent\"><img src=\"https://colab.research.google.com/assets/colab-badge.svg\" alt=\"Open In Colab\"/></a>"
      ]
    },
    {
      "cell_type": "code",
      "metadata": {
        "id": "4uvrUGm84UTV"
      },
      "source": [
        "class Nodo:\n",
        "    def __init__(self, dato, next=None):\n",
        "        self.dato = dato\n",
        "        self.next = next\n",
        "\n",
        "class _getIterator:\n",
        "    def __init__(self, head):\n",
        "        self.__head = head\n",
        "        self.__nodo_actual = self.__head\n",
        "\n",
        "    def __iter__(self):\n",
        "        return self\n",
        "\n",
        "    def __next__(self):\n",
        "        if  self.__head != None:\n",
        "            if self.__head.dato != None:\n",
        "                a = self.__head.dato\n",
        "                self.__head = self.__head.next\n",
        "                return a\n",
        "        else:\n",
        "            raise StopIteration\n",
        "\n",
        "\n",
        "class LinkedList:\n",
        "    def __init__(self):\n",
        "        self.__head = Nodo(None)\n",
        "    \n",
        "    def is_empty(self):\n",
        "        return self.__head.dato == None\n",
        "\n",
        "    def tail(self):\n",
        "        curr_node = self.__head\n",
        "        while curr_node != None and curr_node.next != None:\n",
        "            curr_node = curr_node.next\n",
        "        return curr_node\n",
        "\n",
        "    def append(self, value):\n",
        "        nuevo = Nodo(value)\n",
        "        if self.__head.dato == None:\n",
        "            self.__head = nuevo\n",
        "        else:\n",
        "            self.tail().next = nuevo\n",
        "\n",
        "    def prepend(self, value):\n",
        "        nuevo = Nodo(value, self.__head)\n",
        "        self.__head = nuevo\n",
        "    \n",
        "    def transversal(self):\n",
        "        curr_node = self.__head\n",
        "        if curr_node == None:\n",
        "            print(\"Lista vacia\")\n",
        "        else:\n",
        "            while curr_node != None:\n",
        "                print(f\"{curr_node.dato} --> \", end=\"\")\n",
        "                curr_node = curr_node.next\n",
        "            print()\n",
        "    \n",
        "    def remove(self, value):\n",
        "        curr_node = self.__head\n",
        "        if curr_node.dato == None:\n",
        "            print(\"La lista esta vacia\")\n",
        "        else:\n",
        "            while curr_node != None:     \n",
        "                if curr_node.next.dato == value:\n",
        "                    curr_node.next = curr_node.next.next\n",
        "                    self.__head = curr_node\n",
        "                    curr_node = Nodo(None)\n",
        "                \n",
        "                curr_node = curr_node.next\n",
        "    \n",
        "    def pop(self, pos):\n",
        "        curr_node = self.__head\n",
        "        for x in range(pos -1):\n",
        "            curr_node = curr_node.next\n",
        "        return curr_node.dato\n",
        "\n",
        "    def __iter__(self):\n",
        "        return _getIterator(self.__head)\n",
        "                \n"
      ],
      "execution_count": 130,
      "outputs": []
    },
    {
      "cell_type": "code",
      "metadata": {
        "colab": {
          "base_uri": "https://localhost:8080/"
        },
        "id": "dqUk5g45hSo6",
        "outputId": "64335392-7353-482b-ca99-4c7acb639919"
      },
      "source": [
        "pru = LinkedList()\n",
        "pru.is_empty()\n",
        "print(pru.tail().dato)\n",
        "pru.append(10)\n",
        "pru.transversal()\n",
        "pru.append(20)\n",
        "pru.transversal()\n",
        "pru.append(30)\n",
        "pru.transversal()\n",
        "pru.append(40)\n",
        "pru.transversal()\n",
        "pru.prepend(5)\n",
        "pru.transversal()\n",
        "pru.prepend(2.5)\n",
        "pru.transversal()\n",
        "print(pru.is_empty())\n",
        "print(pru.tail().dato)\n",
        "pru2 = LinkedList()\n",
        "pru2.remove(10)\n",
        "pru.remove(10)\n",
        "pru.transversal()\n",
        "\n",
        "pru.pop(1)"
      ],
      "execution_count": 131,
      "outputs": [
        {
          "output_type": "stream",
          "text": [
            "None\n",
            "10 --> \n",
            "10 --> 20 --> \n",
            "10 --> 20 --> 30 --> \n",
            "10 --> 20 --> 30 --> 40 --> \n",
            "5 --> 10 --> 20 --> 30 --> 40 --> \n",
            "2.5 --> 5 --> 10 --> 20 --> 30 --> 40 --> \n",
            "False\n",
            "40\n",
            "La lista esta vacia\n",
            "5 --> 20 --> 30 --> 40 --> \n"
          ],
          "name": "stdout"
        },
        {
          "output_type": "execute_result",
          "data": {
            "text/plain": [
              "5"
            ]
          },
          "metadata": {
            "tags": []
          },
          "execution_count": 131
        }
      ]
    },
    {
      "cell_type": "code",
      "metadata": {
        "colab": {
          "base_uri": "https://localhost:8080/",
          "height": 535
        },
        "id": "dZACgAiw4brI",
        "outputId": "2d0e0123-53a3-420c-ef5c-8d3be7c4f654"
      },
      "source": [
        "l = LinkedList()\n",
        "print(f\"L esta vacia? {l.is_empty()}\")\n",
        "x = l.tail().dato\n",
        "print(x)\n",
        "l.append(10)\n",
        "l.append(20)\n",
        "l.append(30)\n",
        "l.append(40)\n",
        "l.append(50)\n",
        "l.transversal()\n",
        "print()\n",
        "l.prepend(5)\n",
        "l.prepend(2.5)\n",
        "l.transversal()\n",
        "print()\n",
        "a = LinkedList()\n",
        "a.prepend(1)\n",
        "a.transversal()\n",
        "p = l.tail()\n",
        "print()\n",
        "print(p.dato)\n",
        "l.remove(2.5)\n",
        "l.transversal()\n",
        "l.prepend(1)\n",
        "print()\n",
        "l.transversal()\n",
        "print()\n",
        "print(\"--------\")\n",
        "l.remove(1)\n",
        "l.transversal()\n",
        "print()\n",
        "l.remove(10)\n",
        "l.transversal()\n",
        "print()\n",
        "l.remove(50)\n",
        "l.transversal()"
      ],
      "execution_count": 134,
      "outputs": [
        {
          "output_type": "stream",
          "text": [
            "L esta vacia? True\n",
            "None\n",
            "10 --> 20 --> 30 --> 40 --> 50 --> \n",
            "\n",
            "2.5 --> 5 --> 10 --> 20 --> 30 --> 40 --> 50 --> \n",
            "\n",
            "1 --> None --> \n",
            "\n",
            "50\n"
          ],
          "name": "stdout"
        },
        {
          "output_type": "error",
          "ename": "AttributeError",
          "evalue": "ignored",
          "traceback": [
            "\u001b[0;31m---------------------------------------------------------------------------\u001b[0m",
            "\u001b[0;31mAttributeError\u001b[0m                            Traceback (most recent call last)",
            "\u001b[0;32m<ipython-input-134-6a9b4e0a6734>\u001b[0m in \u001b[0;36m<module>\u001b[0;34m()\u001b[0m\n\u001b[1;32m     20\u001b[0m \u001b[0mprint\u001b[0m\u001b[0;34m(\u001b[0m\u001b[0;34m)\u001b[0m\u001b[0;34m\u001b[0m\u001b[0;34m\u001b[0m\u001b[0m\n\u001b[1;32m     21\u001b[0m \u001b[0mprint\u001b[0m\u001b[0;34m(\u001b[0m\u001b[0mp\u001b[0m\u001b[0;34m.\u001b[0m\u001b[0mdato\u001b[0m\u001b[0;34m)\u001b[0m\u001b[0;34m\u001b[0m\u001b[0;34m\u001b[0m\u001b[0m\n\u001b[0;32m---> 22\u001b[0;31m \u001b[0ml\u001b[0m\u001b[0;34m.\u001b[0m\u001b[0mremove\u001b[0m\u001b[0;34m(\u001b[0m\u001b[0;36m2.5\u001b[0m\u001b[0;34m)\u001b[0m\u001b[0;34m\u001b[0m\u001b[0;34m\u001b[0m\u001b[0m\n\u001b[0m\u001b[1;32m     23\u001b[0m \u001b[0ml\u001b[0m\u001b[0;34m.\u001b[0m\u001b[0mtransversal\u001b[0m\u001b[0;34m(\u001b[0m\u001b[0;34m)\u001b[0m\u001b[0;34m\u001b[0m\u001b[0;34m\u001b[0m\u001b[0m\n\u001b[1;32m     24\u001b[0m \u001b[0ml\u001b[0m\u001b[0;34m.\u001b[0m\u001b[0mprepend\u001b[0m\u001b[0;34m(\u001b[0m\u001b[0;36m1\u001b[0m\u001b[0;34m)\u001b[0m\u001b[0;34m\u001b[0m\u001b[0;34m\u001b[0m\u001b[0m\n",
            "\u001b[0;32m<ipython-input-130-8a9c296b79e8>\u001b[0m in \u001b[0;36mremove\u001b[0;34m(self, value)\u001b[0m\n\u001b[1;32m     62\u001b[0m         \u001b[0;32melse\u001b[0m\u001b[0;34m:\u001b[0m\u001b[0;34m\u001b[0m\u001b[0;34m\u001b[0m\u001b[0m\n\u001b[1;32m     63\u001b[0m             \u001b[0;32mwhile\u001b[0m \u001b[0mcurr_node\u001b[0m \u001b[0;34m!=\u001b[0m \u001b[0;32mNone\u001b[0m\u001b[0;34m:\u001b[0m\u001b[0;34m\u001b[0m\u001b[0;34m\u001b[0m\u001b[0m\n\u001b[0;32m---> 64\u001b[0;31m                 \u001b[0;32mif\u001b[0m \u001b[0mcurr_node\u001b[0m\u001b[0;34m.\u001b[0m\u001b[0mnext\u001b[0m\u001b[0;34m.\u001b[0m\u001b[0mdato\u001b[0m \u001b[0;34m==\u001b[0m \u001b[0mvalue\u001b[0m\u001b[0;34m:\u001b[0m\u001b[0;34m\u001b[0m\u001b[0;34m\u001b[0m\u001b[0m\n\u001b[0m\u001b[1;32m     65\u001b[0m                     \u001b[0mcurr_node\u001b[0m\u001b[0;34m.\u001b[0m\u001b[0mnext\u001b[0m \u001b[0;34m=\u001b[0m \u001b[0mcurr_node\u001b[0m\u001b[0;34m.\u001b[0m\u001b[0mnext\u001b[0m\u001b[0;34m.\u001b[0m\u001b[0mnext\u001b[0m\u001b[0;34m\u001b[0m\u001b[0;34m\u001b[0m\u001b[0m\n\u001b[1;32m     66\u001b[0m                     \u001b[0mself\u001b[0m\u001b[0;34m.\u001b[0m\u001b[0m__head\u001b[0m \u001b[0;34m=\u001b[0m \u001b[0mcurr_node\u001b[0m\u001b[0;34m\u001b[0m\u001b[0;34m\u001b[0m\u001b[0m\n",
            "\u001b[0;31mAttributeError\u001b[0m: 'NoneType' object has no attribute 'dato'"
          ]
        }
      ]
    },
    {
      "cell_type": "code",
      "metadata": {
        "id": "C4LqvF5G4bAy",
        "colab": {
          "base_uri": "https://localhost:8080/"
        },
        "outputId": "48c256cc-fc13-41ac-d8c9-391165622cd9"
      },
      "source": [
        "for x in l:\n",
        "    print(x)"
      ],
      "execution_count": 133,
      "outputs": [
        {
          "output_type": "stream",
          "text": [
            "2.5\n",
            "5\n",
            "10\n",
            "20\n",
            "30\n",
            "40\n",
            "50\n"
          ],
          "name": "stdout"
        }
      ]
    }
  ]
}